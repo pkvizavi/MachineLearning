{
 "cells": [
  {
   "cell_type": "markdown",
   "id": "2e310601",
   "metadata": {},
   "source": [
    "# Лабораторная работа №2. Обучение нейросетевых моделей анализа последовательностей"
   ]
  },
  {
   "cell_type": "markdown",
   "id": "72edc656",
   "metadata": {},
   "source": [
    "***Выполнила: Печкина Кристина, 932101гр.***"
   ]
  },
  {
   "cell_type": "markdown",
   "id": "5Gue95bF5a7V",
   "metadata": {
    "id": "5Gue95bF5a7V"
   },
   "source": [
    "## Задание №1. RNN"
   ]
  },
  {
   "cell_type": "code",
   "execution_count": 1,
   "id": "2ceb43fe",
   "metadata": {
    "id": "2ceb43fe"
   },
   "outputs": [],
   "source": [
    "import pandas as pd\n",
    "import numpy as np\n",
    "import matplotlib.pyplot as plt\n",
    "from sklearn.preprocessing import MinMaxScaler\n",
    "from sklearn.metrics import mean_squared_error,mean_absolute_error,r2_score\n",
    "import tensorflow as tf\n",
    "from tensorflow import keras\n",
    "from tensorflow.keras.layers import Dense, Dropout, Activation, SimpleRNN, GRU\n",
    "from tensorflow.keras import layers\n",
    "from tensorflow.keras.models import Sequential\n",
    "from tensorflow.keras.callbacks import ModelCheckpoint,EarlyStopping"
   ]
  },
  {
   "cell_type": "markdown",
   "id": "03Y20veV5lYY",
   "metadata": {
    "id": "03Y20veV5lYY"
   },
   "source": [
    "### Работа с данными"
   ]
  },
  {
   "cell_type": "code",
   "execution_count": 5,
   "id": "6d6466b2",
   "metadata": {
    "colab": {
     "base_uri": "https://localhost:8080/",
     "height": 206
    },
    "id": "6d6466b2",
    "outputId": "7736cac8-a99d-477f-99e3-9cfd39ffd32b",
    "scrolled": true
   },
   "outputs": [
    {
     "data": {
      "text/html": [
       "\n",
       "  <div id=\"df-9f324b6a-1896-4537-9f06-d18cf8b43672\" class=\"colab-df-container\">\n",
       "    <div>\n",
       "<style scoped>\n",
       "    .dataframe tbody tr th:only-of-type {\n",
       "        vertical-align: middle;\n",
       "    }\n",
       "\n",
       "    .dataframe tbody tr th {\n",
       "        vertical-align: top;\n",
       "    }\n",
       "\n",
       "    .dataframe thead th {\n",
       "        text-align: right;\n",
       "    }\n",
       "</style>\n",
       "<table border=\"1\" class=\"dataframe\">\n",
       "  <thead>\n",
       "    <tr style=\"text-align: right;\">\n",
       "      <th></th>\n",
       "      <th>LocalTime</th>\n",
       "      <th>T</th>\n",
       "      <th>P0</th>\n",
       "      <th>P</th>\n",
       "      <th>U</th>\n",
       "      <th>DD</th>\n",
       "    </tr>\n",
       "  </thead>\n",
       "  <tbody>\n",
       "    <tr>\n",
       "      <th>0</th>\n",
       "      <td>19.10.2020 17:00</td>\n",
       "      <td>-7.0</td>\n",
       "      <td>745.9</td>\n",
       "      <td>758.2</td>\n",
       "      <td>68.0</td>\n",
       "      <td>Ветер</td>\n",
       "    </tr>\n",
       "    <tr>\n",
       "      <th>1</th>\n",
       "      <td>19.10.2020 16:30</td>\n",
       "      <td>-6.0</td>\n",
       "      <td>746.0</td>\n",
       "      <td>758.2</td>\n",
       "      <td>63.0</td>\n",
       "      <td>Ветер</td>\n",
       "    </tr>\n",
       "    <tr>\n",
       "      <th>2</th>\n",
       "      <td>19.10.2020 16:00</td>\n",
       "      <td>-5.0</td>\n",
       "      <td>746.0</td>\n",
       "      <td>758.2</td>\n",
       "      <td>58.0</td>\n",
       "      <td>Ветер</td>\n",
       "    </tr>\n",
       "    <tr>\n",
       "      <th>3</th>\n",
       "      <td>19.10.2020 15:30</td>\n",
       "      <td>-4.0</td>\n",
       "      <td>746.1</td>\n",
       "      <td>758.2</td>\n",
       "      <td>59.0</td>\n",
       "      <td>Ветер</td>\n",
       "    </tr>\n",
       "    <tr>\n",
       "      <th>4</th>\n",
       "      <td>19.10.2020 15:00</td>\n",
       "      <td>-4.0</td>\n",
       "      <td>746.1</td>\n",
       "      <td>758.2</td>\n",
       "      <td>54.0</td>\n",
       "      <td>Ветер</td>\n",
       "    </tr>\n",
       "  </tbody>\n",
       "</table>\n",
       "</div>\n",
       "    <div class=\"colab-df-buttons\">\n",
       "\n",
       "  <div class=\"colab-df-container\">\n",
       "    <button class=\"colab-df-convert\" onclick=\"convertToInteractive('df-9f324b6a-1896-4537-9f06-d18cf8b43672')\"\n",
       "            title=\"Convert this dataframe to an interactive table.\"\n",
       "            style=\"display:none;\">\n",
       "\n",
       "  <svg xmlns=\"http://www.w3.org/2000/svg\" height=\"24px\" viewBox=\"0 -960 960 960\">\n",
       "    <path d=\"M120-120v-720h720v720H120Zm60-500h600v-160H180v160Zm220 220h160v-160H400v160Zm0 220h160v-160H400v160ZM180-400h160v-160H180v160Zm440 0h160v-160H620v160ZM180-180h160v-160H180v160Zm440 0h160v-160H620v160Z\"/>\n",
       "  </svg>\n",
       "    </button>\n",
       "\n",
       "  <style>\n",
       "    .colab-df-container {\n",
       "      display:flex;\n",
       "      gap: 12px;\n",
       "    }\n",
       "\n",
       "    .colab-df-convert {\n",
       "      background-color: #E8F0FE;\n",
       "      border: none;\n",
       "      border-radius: 50%;\n",
       "      cursor: pointer;\n",
       "      display: none;\n",
       "      fill: #1967D2;\n",
       "      height: 32px;\n",
       "      padding: 0 0 0 0;\n",
       "      width: 32px;\n",
       "    }\n",
       "\n",
       "    .colab-df-convert:hover {\n",
       "      background-color: #E2EBFA;\n",
       "      box-shadow: 0px 1px 2px rgba(60, 64, 67, 0.3), 0px 1px 3px 1px rgba(60, 64, 67, 0.15);\n",
       "      fill: #174EA6;\n",
       "    }\n",
       "\n",
       "    .colab-df-buttons div {\n",
       "      margin-bottom: 4px;\n",
       "    }\n",
       "\n",
       "    [theme=dark] .colab-df-convert {\n",
       "      background-color: #3B4455;\n",
       "      fill: #D2E3FC;\n",
       "    }\n",
       "\n",
       "    [theme=dark] .colab-df-convert:hover {\n",
       "      background-color: #434B5C;\n",
       "      box-shadow: 0px 1px 3px 1px rgba(0, 0, 0, 0.15);\n",
       "      filter: drop-shadow(0px 1px 2px rgba(0, 0, 0, 0.3));\n",
       "      fill: #FFFFFF;\n",
       "    }\n",
       "  </style>\n",
       "\n",
       "    <script>\n",
       "      const buttonEl =\n",
       "        document.querySelector('#df-9f324b6a-1896-4537-9f06-d18cf8b43672 button.colab-df-convert');\n",
       "      buttonEl.style.display =\n",
       "        google.colab.kernel.accessAllowed ? 'block' : 'none';\n",
       "\n",
       "      async function convertToInteractive(key) {\n",
       "        const element = document.querySelector('#df-9f324b6a-1896-4537-9f06-d18cf8b43672');\n",
       "        const dataTable =\n",
       "          await google.colab.kernel.invokeFunction('convertToInteractive',\n",
       "                                                    [key], {});\n",
       "        if (!dataTable) return;\n",
       "\n",
       "        const docLinkHtml = 'Like what you see? Visit the ' +\n",
       "          '<a target=\"_blank\" href=https://colab.research.google.com/notebooks/data_table.ipynb>data table notebook</a>'\n",
       "          + ' to learn more about interactive tables.';\n",
       "        element.innerHTML = '';\n",
       "        dataTable['output_type'] = 'display_data';\n",
       "        await google.colab.output.renderOutput(dataTable, element);\n",
       "        const docLink = document.createElement('div');\n",
       "        docLink.innerHTML = docLinkHtml;\n",
       "        element.appendChild(docLink);\n",
       "      }\n",
       "    </script>\n",
       "  </div>\n",
       "\n",
       "\n",
       "<div id=\"df-7c789a10-072e-47dd-8d8f-ae1ddb38af10\">\n",
       "  <button class=\"colab-df-quickchart\" onclick=\"quickchart('df-7c789a10-072e-47dd-8d8f-ae1ddb38af10')\"\n",
       "            title=\"Suggest charts\"\n",
       "            style=\"display:none;\">\n",
       "\n",
       "<svg xmlns=\"http://www.w3.org/2000/svg\" height=\"24px\"viewBox=\"0 0 24 24\"\n",
       "     width=\"24px\">\n",
       "    <g>\n",
       "        <path d=\"M19 3H5c-1.1 0-2 .9-2 2v14c0 1.1.9 2 2 2h14c1.1 0 2-.9 2-2V5c0-1.1-.9-2-2-2zM9 17H7v-7h2v7zm4 0h-2V7h2v10zm4 0h-2v-4h2v4z\"/>\n",
       "    </g>\n",
       "</svg>\n",
       "  </button>\n",
       "\n",
       "<style>\n",
       "  .colab-df-quickchart {\n",
       "      --bg-color: #E8F0FE;\n",
       "      --fill-color: #1967D2;\n",
       "      --hover-bg-color: #E2EBFA;\n",
       "      --hover-fill-color: #174EA6;\n",
       "      --disabled-fill-color: #AAA;\n",
       "      --disabled-bg-color: #DDD;\n",
       "  }\n",
       "\n",
       "  [theme=dark] .colab-df-quickchart {\n",
       "      --bg-color: #3B4455;\n",
       "      --fill-color: #D2E3FC;\n",
       "      --hover-bg-color: #434B5C;\n",
       "      --hover-fill-color: #FFFFFF;\n",
       "      --disabled-bg-color: #3B4455;\n",
       "      --disabled-fill-color: #666;\n",
       "  }\n",
       "\n",
       "  .colab-df-quickchart {\n",
       "    background-color: var(--bg-color);\n",
       "    border: none;\n",
       "    border-radius: 50%;\n",
       "    cursor: pointer;\n",
       "    display: none;\n",
       "    fill: var(--fill-color);\n",
       "    height: 32px;\n",
       "    padding: 0;\n",
       "    width: 32px;\n",
       "  }\n",
       "\n",
       "  .colab-df-quickchart:hover {\n",
       "    background-color: var(--hover-bg-color);\n",
       "    box-shadow: 0 1px 2px rgba(60, 64, 67, 0.3), 0 1px 3px 1px rgba(60, 64, 67, 0.15);\n",
       "    fill: var(--button-hover-fill-color);\n",
       "  }\n",
       "\n",
       "  .colab-df-quickchart-complete:disabled,\n",
       "  .colab-df-quickchart-complete:disabled:hover {\n",
       "    background-color: var(--disabled-bg-color);\n",
       "    fill: var(--disabled-fill-color);\n",
       "    box-shadow: none;\n",
       "  }\n",
       "\n",
       "  .colab-df-spinner {\n",
       "    border: 2px solid var(--fill-color);\n",
       "    border-color: transparent;\n",
       "    border-bottom-color: var(--fill-color);\n",
       "    animation:\n",
       "      spin 1s steps(1) infinite;\n",
       "  }\n",
       "\n",
       "  @keyframes spin {\n",
       "    0% {\n",
       "      border-color: transparent;\n",
       "      border-bottom-color: var(--fill-color);\n",
       "      border-left-color: var(--fill-color);\n",
       "    }\n",
       "    20% {\n",
       "      border-color: transparent;\n",
       "      border-left-color: var(--fill-color);\n",
       "      border-top-color: var(--fill-color);\n",
       "    }\n",
       "    30% {\n",
       "      border-color: transparent;\n",
       "      border-left-color: var(--fill-color);\n",
       "      border-top-color: var(--fill-color);\n",
       "      border-right-color: var(--fill-color);\n",
       "    }\n",
       "    40% {\n",
       "      border-color: transparent;\n",
       "      border-right-color: var(--fill-color);\n",
       "      border-top-color: var(--fill-color);\n",
       "    }\n",
       "    60% {\n",
       "      border-color: transparent;\n",
       "      border-right-color: var(--fill-color);\n",
       "    }\n",
       "    80% {\n",
       "      border-color: transparent;\n",
       "      border-right-color: var(--fill-color);\n",
       "      border-bottom-color: var(--fill-color);\n",
       "    }\n",
       "    90% {\n",
       "      border-color: transparent;\n",
       "      border-bottom-color: var(--fill-color);\n",
       "    }\n",
       "  }\n",
       "</style>\n",
       "\n",
       "  <script>\n",
       "    async function quickchart(key) {\n",
       "      const quickchartButtonEl =\n",
       "        document.querySelector('#' + key + ' button');\n",
       "      quickchartButtonEl.disabled = true;  // To prevent multiple clicks.\n",
       "      quickchartButtonEl.classList.add('colab-df-spinner');\n",
       "      try {\n",
       "        const charts = await google.colab.kernel.invokeFunction(\n",
       "            'suggestCharts', [key], {});\n",
       "      } catch (error) {\n",
       "        console.error('Error during call to suggestCharts:', error);\n",
       "      }\n",
       "      quickchartButtonEl.classList.remove('colab-df-spinner');\n",
       "      quickchartButtonEl.classList.add('colab-df-quickchart-complete');\n",
       "    }\n",
       "    (() => {\n",
       "      let quickchartButtonEl =\n",
       "        document.querySelector('#df-7c789a10-072e-47dd-8d8f-ae1ddb38af10 button');\n",
       "      quickchartButtonEl.style.display =\n",
       "        google.colab.kernel.accessAllowed ? 'block' : 'none';\n",
       "    })();\n",
       "  </script>\n",
       "</div>\n",
       "    </div>\n",
       "  </div>\n"
      ],
      "text/plain": [
       "          LocalTime    T     P0      P     U     DD\n",
       "0  19.10.2020 17:00 -7.0  745.9  758.2  68.0  Ветер\n",
       "1  19.10.2020 16:30 -6.0  746.0  758.2  63.0  Ветер\n",
       "2  19.10.2020 16:00 -5.0  746.0  758.2  58.0  Ветер\n",
       "3  19.10.2020 15:30 -4.0  746.1  758.2  59.0  Ветер\n",
       "4  19.10.2020 15:00 -4.0  746.1  758.2  54.0  Ветер"
      ]
     },
     "execution_count": 5,
     "metadata": {},
     "output_type": "execute_result"
    }
   ],
   "source": [
    "df = pd.read_csv('Yakutsk_weather_19102020_01102012.csv', sep=';', encoding='windows-1251')\n",
    "df.head()"
   ]
  },
  {
   "cell_type": "markdown",
   "id": "_bZ-qdm45o_b",
   "metadata": {
    "id": "_bZ-qdm45o_b"
   },
   "source": [
    "Данные идут в обратном порядке. Поставим их в правильный порядок:"
   ]
  },
  {
   "cell_type": "code",
   "execution_count": 9,
   "id": "29_qL_cqhydf",
   "metadata": {
    "id": "29_qL_cqhydf"
   },
   "outputs": [],
   "source": [
    "df = df.loc[::-1].set_index(df.index)"
   ]
  },
  {
   "cell_type": "code",
   "execution_count": 10,
   "id": "JRIv5DjDh2Nj",
   "metadata": {
    "colab": {
     "base_uri": "https://localhost:8080/",
     "height": 423
    },
    "id": "JRIv5DjDh2Nj",
    "outputId": "741de693-c88e-441c-c5dc-3ff6c7d31367"
   },
   "outputs": [
    {
     "data": {
      "text/html": [
       "\n",
       "  <div id=\"df-75943548-6abe-4410-9675-98e313b5d036\" class=\"colab-df-container\">\n",
       "    <div>\n",
       "<style scoped>\n",
       "    .dataframe tbody tr th:only-of-type {\n",
       "        vertical-align: middle;\n",
       "    }\n",
       "\n",
       "    .dataframe tbody tr th {\n",
       "        vertical-align: top;\n",
       "    }\n",
       "\n",
       "    .dataframe thead th {\n",
       "        text-align: right;\n",
       "    }\n",
       "</style>\n",
       "<table border=\"1\" class=\"dataframe\">\n",
       "  <thead>\n",
       "    <tr style=\"text-align: right;\">\n",
       "      <th></th>\n",
       "      <th>LocalTime</th>\n",
       "      <th>T</th>\n",
       "      <th>P0</th>\n",
       "      <th>P</th>\n",
       "      <th>U</th>\n",
       "      <th>DD</th>\n",
       "    </tr>\n",
       "  </thead>\n",
       "  <tbody>\n",
       "    <tr>\n",
       "      <th>0</th>\n",
       "      <td>01.10.2012 00:00</td>\n",
       "      <td>2.0</td>\n",
       "      <td>744.4</td>\n",
       "      <td>756.2</td>\n",
       "      <td>87.0</td>\n",
       "      <td>Ветер</td>\n",
       "    </tr>\n",
       "    <tr>\n",
       "      <th>1</th>\n",
       "      <td>01.10.2012 01:00</td>\n",
       "      <td>2.0</td>\n",
       "      <td>744.4</td>\n",
       "      <td>756.2</td>\n",
       "      <td>87.0</td>\n",
       "      <td>Ветер</td>\n",
       "    </tr>\n",
       "    <tr>\n",
       "      <th>2</th>\n",
       "      <td>01.10.2012 02:00</td>\n",
       "      <td>2.0</td>\n",
       "      <td>743.6</td>\n",
       "      <td>755.4</td>\n",
       "      <td>87.0</td>\n",
       "      <td>Ветер</td>\n",
       "    </tr>\n",
       "    <tr>\n",
       "      <th>3</th>\n",
       "      <td>01.10.2012 03:00</td>\n",
       "      <td>2.0</td>\n",
       "      <td>743.6</td>\n",
       "      <td>755.4</td>\n",
       "      <td>87.0</td>\n",
       "      <td>Ветер</td>\n",
       "    </tr>\n",
       "    <tr>\n",
       "      <th>4</th>\n",
       "      <td>01.10.2012 04:00</td>\n",
       "      <td>2.0</td>\n",
       "      <td>742.8</td>\n",
       "      <td>754.6</td>\n",
       "      <td>87.0</td>\n",
       "      <td>Ветер</td>\n",
       "    </tr>\n",
       "    <tr>\n",
       "      <th>...</th>\n",
       "      <td>...</td>\n",
       "      <td>...</td>\n",
       "      <td>...</td>\n",
       "      <td>...</td>\n",
       "      <td>...</td>\n",
       "      <td>...</td>\n",
       "    </tr>\n",
       "    <tr>\n",
       "      <th>116046</th>\n",
       "      <td>19.10.2020 15:00</td>\n",
       "      <td>-4.0</td>\n",
       "      <td>746.1</td>\n",
       "      <td>758.2</td>\n",
       "      <td>54.0</td>\n",
       "      <td>Ветер</td>\n",
       "    </tr>\n",
       "    <tr>\n",
       "      <th>116047</th>\n",
       "      <td>19.10.2020 15:30</td>\n",
       "      <td>-4.0</td>\n",
       "      <td>746.1</td>\n",
       "      <td>758.2</td>\n",
       "      <td>59.0</td>\n",
       "      <td>Ветер</td>\n",
       "    </tr>\n",
       "    <tr>\n",
       "      <th>116048</th>\n",
       "      <td>19.10.2020 16:00</td>\n",
       "      <td>-5.0</td>\n",
       "      <td>746.0</td>\n",
       "      <td>758.2</td>\n",
       "      <td>58.0</td>\n",
       "      <td>Ветер</td>\n",
       "    </tr>\n",
       "    <tr>\n",
       "      <th>116049</th>\n",
       "      <td>19.10.2020 16:30</td>\n",
       "      <td>-6.0</td>\n",
       "      <td>746.0</td>\n",
       "      <td>758.2</td>\n",
       "      <td>63.0</td>\n",
       "      <td>Ветер</td>\n",
       "    </tr>\n",
       "    <tr>\n",
       "      <th>116050</th>\n",
       "      <td>19.10.2020 17:00</td>\n",
       "      <td>-7.0</td>\n",
       "      <td>745.9</td>\n",
       "      <td>758.2</td>\n",
       "      <td>68.0</td>\n",
       "      <td>Ветер</td>\n",
       "    </tr>\n",
       "  </tbody>\n",
       "</table>\n",
       "<p>116051 rows × 6 columns</p>\n",
       "</div>\n",
       "    <div class=\"colab-df-buttons\">\n",
       "\n",
       "  <div class=\"colab-df-container\">\n",
       "    <button class=\"colab-df-convert\" onclick=\"convertToInteractive('df-75943548-6abe-4410-9675-98e313b5d036')\"\n",
       "            title=\"Convert this dataframe to an interactive table.\"\n",
       "            style=\"display:none;\">\n",
       "\n",
       "  <svg xmlns=\"http://www.w3.org/2000/svg\" height=\"24px\" viewBox=\"0 -960 960 960\">\n",
       "    <path d=\"M120-120v-720h720v720H120Zm60-500h600v-160H180v160Zm220 220h160v-160H400v160Zm0 220h160v-160H400v160ZM180-400h160v-160H180v160Zm440 0h160v-160H620v160ZM180-180h160v-160H180v160Zm440 0h160v-160H620v160Z\"/>\n",
       "  </svg>\n",
       "    </button>\n",
       "\n",
       "  <style>\n",
       "    .colab-df-container {\n",
       "      display:flex;\n",
       "      gap: 12px;\n",
       "    }\n",
       "\n",
       "    .colab-df-convert {\n",
       "      background-color: #E8F0FE;\n",
       "      border: none;\n",
       "      border-radius: 50%;\n",
       "      cursor: pointer;\n",
       "      display: none;\n",
       "      fill: #1967D2;\n",
       "      height: 32px;\n",
       "      padding: 0 0 0 0;\n",
       "      width: 32px;\n",
       "    }\n",
       "\n",
       "    .colab-df-convert:hover {\n",
       "      background-color: #E2EBFA;\n",
       "      box-shadow: 0px 1px 2px rgba(60, 64, 67, 0.3), 0px 1px 3px 1px rgba(60, 64, 67, 0.15);\n",
       "      fill: #174EA6;\n",
       "    }\n",
       "\n",
       "    .colab-df-buttons div {\n",
       "      margin-bottom: 4px;\n",
       "    }\n",
       "\n",
       "    [theme=dark] .colab-df-convert {\n",
       "      background-color: #3B4455;\n",
       "      fill: #D2E3FC;\n",
       "    }\n",
       "\n",
       "    [theme=dark] .colab-df-convert:hover {\n",
       "      background-color: #434B5C;\n",
       "      box-shadow: 0px 1px 3px 1px rgba(0, 0, 0, 0.15);\n",
       "      filter: drop-shadow(0px 1px 2px rgba(0, 0, 0, 0.3));\n",
       "      fill: #FFFFFF;\n",
       "    }\n",
       "  </style>\n",
       "\n",
       "    <script>\n",
       "      const buttonEl =\n",
       "        document.querySelector('#df-75943548-6abe-4410-9675-98e313b5d036 button.colab-df-convert');\n",
       "      buttonEl.style.display =\n",
       "        google.colab.kernel.accessAllowed ? 'block' : 'none';\n",
       "\n",
       "      async function convertToInteractive(key) {\n",
       "        const element = document.querySelector('#df-75943548-6abe-4410-9675-98e313b5d036');\n",
       "        const dataTable =\n",
       "          await google.colab.kernel.invokeFunction('convertToInteractive',\n",
       "                                                    [key], {});\n",
       "        if (!dataTable) return;\n",
       "\n",
       "        const docLinkHtml = 'Like what you see? Visit the ' +\n",
       "          '<a target=\"_blank\" href=https://colab.research.google.com/notebooks/data_table.ipynb>data table notebook</a>'\n",
       "          + ' to learn more about interactive tables.';\n",
       "        element.innerHTML = '';\n",
       "        dataTable['output_type'] = 'display_data';\n",
       "        await google.colab.output.renderOutput(dataTable, element);\n",
       "        const docLink = document.createElement('div');\n",
       "        docLink.innerHTML = docLinkHtml;\n",
       "        element.appendChild(docLink);\n",
       "      }\n",
       "    </script>\n",
       "  </div>\n",
       "\n",
       "\n",
       "<div id=\"df-139ae669-0d11-4c54-8848-b907bddd2e0f\">\n",
       "  <button class=\"colab-df-quickchart\" onclick=\"quickchart('df-139ae669-0d11-4c54-8848-b907bddd2e0f')\"\n",
       "            title=\"Suggest charts\"\n",
       "            style=\"display:none;\">\n",
       "\n",
       "<svg xmlns=\"http://www.w3.org/2000/svg\" height=\"24px\"viewBox=\"0 0 24 24\"\n",
       "     width=\"24px\">\n",
       "    <g>\n",
       "        <path d=\"M19 3H5c-1.1 0-2 .9-2 2v14c0 1.1.9 2 2 2h14c1.1 0 2-.9 2-2V5c0-1.1-.9-2-2-2zM9 17H7v-7h2v7zm4 0h-2V7h2v10zm4 0h-2v-4h2v4z\"/>\n",
       "    </g>\n",
       "</svg>\n",
       "  </button>\n",
       "\n",
       "<style>\n",
       "  .colab-df-quickchart {\n",
       "      --bg-color: #E8F0FE;\n",
       "      --fill-color: #1967D2;\n",
       "      --hover-bg-color: #E2EBFA;\n",
       "      --hover-fill-color: #174EA6;\n",
       "      --disabled-fill-color: #AAA;\n",
       "      --disabled-bg-color: #DDD;\n",
       "  }\n",
       "\n",
       "  [theme=dark] .colab-df-quickchart {\n",
       "      --bg-color: #3B4455;\n",
       "      --fill-color: #D2E3FC;\n",
       "      --hover-bg-color: #434B5C;\n",
       "      --hover-fill-color: #FFFFFF;\n",
       "      --disabled-bg-color: #3B4455;\n",
       "      --disabled-fill-color: #666;\n",
       "  }\n",
       "\n",
       "  .colab-df-quickchart {\n",
       "    background-color: var(--bg-color);\n",
       "    border: none;\n",
       "    border-radius: 50%;\n",
       "    cursor: pointer;\n",
       "    display: none;\n",
       "    fill: var(--fill-color);\n",
       "    height: 32px;\n",
       "    padding: 0;\n",
       "    width: 32px;\n",
       "  }\n",
       "\n",
       "  .colab-df-quickchart:hover {\n",
       "    background-color: var(--hover-bg-color);\n",
       "    box-shadow: 0 1px 2px rgba(60, 64, 67, 0.3), 0 1px 3px 1px rgba(60, 64, 67, 0.15);\n",
       "    fill: var(--button-hover-fill-color);\n",
       "  }\n",
       "\n",
       "  .colab-df-quickchart-complete:disabled,\n",
       "  .colab-df-quickchart-complete:disabled:hover {\n",
       "    background-color: var(--disabled-bg-color);\n",
       "    fill: var(--disabled-fill-color);\n",
       "    box-shadow: none;\n",
       "  }\n",
       "\n",
       "  .colab-df-spinner {\n",
       "    border: 2px solid var(--fill-color);\n",
       "    border-color: transparent;\n",
       "    border-bottom-color: var(--fill-color);\n",
       "    animation:\n",
       "      spin 1s steps(1) infinite;\n",
       "  }\n",
       "\n",
       "  @keyframes spin {\n",
       "    0% {\n",
       "      border-color: transparent;\n",
       "      border-bottom-color: var(--fill-color);\n",
       "      border-left-color: var(--fill-color);\n",
       "    }\n",
       "    20% {\n",
       "      border-color: transparent;\n",
       "      border-left-color: var(--fill-color);\n",
       "      border-top-color: var(--fill-color);\n",
       "    }\n",
       "    30% {\n",
       "      border-color: transparent;\n",
       "      border-left-color: var(--fill-color);\n",
       "      border-top-color: var(--fill-color);\n",
       "      border-right-color: var(--fill-color);\n",
       "    }\n",
       "    40% {\n",
       "      border-color: transparent;\n",
       "      border-right-color: var(--fill-color);\n",
       "      border-top-color: var(--fill-color);\n",
       "    }\n",
       "    60% {\n",
       "      border-color: transparent;\n",
       "      border-right-color: var(--fill-color);\n",
       "    }\n",
       "    80% {\n",
       "      border-color: transparent;\n",
       "      border-right-color: var(--fill-color);\n",
       "      border-bottom-color: var(--fill-color);\n",
       "    }\n",
       "    90% {\n",
       "      border-color: transparent;\n",
       "      border-bottom-color: var(--fill-color);\n",
       "    }\n",
       "  }\n",
       "</style>\n",
       "\n",
       "  <script>\n",
       "    async function quickchart(key) {\n",
       "      const quickchartButtonEl =\n",
       "        document.querySelector('#' + key + ' button');\n",
       "      quickchartButtonEl.disabled = true;  // To prevent multiple clicks.\n",
       "      quickchartButtonEl.classList.add('colab-df-spinner');\n",
       "      try {\n",
       "        const charts = await google.colab.kernel.invokeFunction(\n",
       "            'suggestCharts', [key], {});\n",
       "      } catch (error) {\n",
       "        console.error('Error during call to suggestCharts:', error);\n",
       "      }\n",
       "      quickchartButtonEl.classList.remove('colab-df-spinner');\n",
       "      quickchartButtonEl.classList.add('colab-df-quickchart-complete');\n",
       "    }\n",
       "    (() => {\n",
       "      let quickchartButtonEl =\n",
       "        document.querySelector('#df-139ae669-0d11-4c54-8848-b907bddd2e0f button');\n",
       "      quickchartButtonEl.style.display =\n",
       "        google.colab.kernel.accessAllowed ? 'block' : 'none';\n",
       "    })();\n",
       "  </script>\n",
       "</div>\n",
       "    </div>\n",
       "  </div>\n"
      ],
      "text/plain": [
       "               LocalTime    T     P0      P     U     DD\n",
       "0       01.10.2012 00:00  2.0  744.4  756.2  87.0  Ветер\n",
       "1       01.10.2012 01:00  2.0  744.4  756.2  87.0  Ветер\n",
       "2       01.10.2012 02:00  2.0  743.6  755.4  87.0  Ветер\n",
       "3       01.10.2012 03:00  2.0  743.6  755.4  87.0  Ветер\n",
       "4       01.10.2012 04:00  2.0  742.8  754.6  87.0  Ветер\n",
       "...                  ...  ...    ...    ...   ...    ...\n",
       "116046  19.10.2020 15:00 -4.0  746.1  758.2  54.0  Ветер\n",
       "116047  19.10.2020 15:30 -4.0  746.1  758.2  59.0  Ветер\n",
       "116048  19.10.2020 16:00 -5.0  746.0  758.2  58.0  Ветер\n",
       "116049  19.10.2020 16:30 -6.0  746.0  758.2  63.0  Ветер\n",
       "116050  19.10.2020 17:00 -7.0  745.9  758.2  68.0  Ветер\n",
       "\n",
       "[116051 rows x 6 columns]"
      ]
     },
     "execution_count": 10,
     "metadata": {},
     "output_type": "execute_result"
    }
   ],
   "source": [
    "df"
   ]
  },
  {
   "cell_type": "code",
   "execution_count": 11,
   "id": "3bba4b1a",
   "metadata": {
    "colab": {
     "base_uri": "https://localhost:8080/"
    },
    "id": "3bba4b1a",
    "outputId": "5e21f068-2a9b-4bdc-c340-7b2d8f2b7951"
   },
   "outputs": [
    {
     "name": "stdout",
     "output_type": "stream",
     "text": [
      "<class 'pandas.core.frame.DataFrame'>\n",
      "RangeIndex: 116051 entries, 0 to 116050\n",
      "Data columns (total 6 columns):\n",
      " #   Column     Non-Null Count   Dtype  \n",
      "---  ------     --------------   -----  \n",
      " 0   LocalTime  116051 non-null  object \n",
      " 1   T          116050 non-null  float64\n",
      " 2   P0         116049 non-null  float64\n",
      " 3   P          116049 non-null  float64\n",
      " 4   U          116048 non-null  float64\n",
      " 5   DD         116048 non-null  object \n",
      "dtypes: float64(4), object(2)\n",
      "memory usage: 5.3+ MB\n"
     ]
    }
   ],
   "source": [
    "df.info()"
   ]
  },
  {
   "cell_type": "code",
   "execution_count": 12,
   "id": "909a0e62",
   "metadata": {
    "colab": {
     "base_uri": "https://localhost:8080/"
    },
    "id": "909a0e62",
    "outputId": "3a36c9c0-87f5-4c30-8dac-ae1fc3561795"
   },
   "outputs": [
    {
     "data": {
      "text/plain": [
       "LocalTime    0.000000\n",
       "T            0.000009\n",
       "P0           0.000017\n",
       "P            0.000017\n",
       "U            0.000026\n",
       "DD           0.000026\n",
       "dtype: float64"
      ]
     },
     "execution_count": 12,
     "metadata": {},
     "output_type": "execute_result"
    }
   ],
   "source": [
    "df.isnull().sum()/df.shape[0]"
   ]
  },
  {
   "cell_type": "markdown",
   "id": "YnNoUGs85zlP",
   "metadata": {
    "id": "YnNoUGs85zlP"
   },
   "source": [
    "Есть пропущенные значения. Удалим строки с ними:"
   ]
  },
  {
   "cell_type": "code",
   "execution_count": 13,
   "id": "61e3d396",
   "metadata": {
    "id": "61e3d396"
   },
   "outputs": [],
   "source": [
    "df = df.dropna()"
   ]
  },
  {
   "cell_type": "code",
   "execution_count": 14,
   "id": "be26731a",
   "metadata": {
    "colab": {
     "base_uri": "https://localhost:8080/"
    },
    "id": "be26731a",
    "outputId": "d42f6c68-4da5-4556-d82f-f571e48b60a7"
   },
   "outputs": [
    {
     "data": {
      "text/plain": [
       "0"
      ]
     },
     "execution_count": 14,
     "metadata": {},
     "output_type": "execute_result"
    }
   ],
   "source": [
    "df.isnull().sum().sum()"
   ]
  },
  {
   "cell_type": "code",
   "execution_count": 15,
   "id": "0ebfc85e",
   "metadata": {
    "colab": {
     "base_uri": "https://localhost:8080/"
    },
    "id": "0ebfc85e",
    "outputId": "1be9ee31-4553-4970-d2e5-3a7e119d0094"
   },
   "outputs": [
    {
     "data": {
      "text/plain": [
       "Ветер                     99657\n",
       "Штиль                     16250\n",
       "Переменное направление      137\n",
       "Name: DD, dtype: int64"
      ]
     },
     "execution_count": 15,
     "metadata": {},
     "output_type": "execute_result"
    }
   ],
   "source": [
    "df['DD'].value_counts()"
   ]
  },
  {
   "cell_type": "markdown",
   "id": "8wTQGsvr6KRy",
   "metadata": {
    "id": "8wTQGsvr6KRy"
   },
   "source": [
    "Обработаем данные в столбце DD:"
   ]
  },
  {
   "cell_type": "code",
   "execution_count": 16,
   "id": "1d130d95",
   "metadata": {
    "colab": {
     "base_uri": "https://localhost:8080/",
     "height": 206
    },
    "id": "1d130d95",
    "outputId": "5601a679-1e11-49ea-c367-aadb23104863",
    "scrolled": true
   },
   "outputs": [
    {
     "data": {
      "text/html": [
       "\n",
       "  <div id=\"df-ba1961ec-e073-4f3b-85cd-2e194b0f2323\" class=\"colab-df-container\">\n",
       "    <div>\n",
       "<style scoped>\n",
       "    .dataframe tbody tr th:only-of-type {\n",
       "        vertical-align: middle;\n",
       "    }\n",
       "\n",
       "    .dataframe tbody tr th {\n",
       "        vertical-align: top;\n",
       "    }\n",
       "\n",
       "    .dataframe thead th {\n",
       "        text-align: right;\n",
       "    }\n",
       "</style>\n",
       "<table border=\"1\" class=\"dataframe\">\n",
       "  <thead>\n",
       "    <tr style=\"text-align: right;\">\n",
       "      <th></th>\n",
       "      <th>LocalTime</th>\n",
       "      <th>T</th>\n",
       "      <th>P0</th>\n",
       "      <th>P</th>\n",
       "      <th>U</th>\n",
       "      <th>DD_Ветер</th>\n",
       "      <th>DD_Переменное направление</th>\n",
       "      <th>DD_Штиль</th>\n",
       "    </tr>\n",
       "  </thead>\n",
       "  <tbody>\n",
       "    <tr>\n",
       "      <th>0</th>\n",
       "      <td>01.10.2012 00:00</td>\n",
       "      <td>2.0</td>\n",
       "      <td>744.4</td>\n",
       "      <td>756.2</td>\n",
       "      <td>87.0</td>\n",
       "      <td>1</td>\n",
       "      <td>0</td>\n",
       "      <td>0</td>\n",
       "    </tr>\n",
       "    <tr>\n",
       "      <th>1</th>\n",
       "      <td>01.10.2012 01:00</td>\n",
       "      <td>2.0</td>\n",
       "      <td>744.4</td>\n",
       "      <td>756.2</td>\n",
       "      <td>87.0</td>\n",
       "      <td>1</td>\n",
       "      <td>0</td>\n",
       "      <td>0</td>\n",
       "    </tr>\n",
       "    <tr>\n",
       "      <th>2</th>\n",
       "      <td>01.10.2012 02:00</td>\n",
       "      <td>2.0</td>\n",
       "      <td>743.6</td>\n",
       "      <td>755.4</td>\n",
       "      <td>87.0</td>\n",
       "      <td>1</td>\n",
       "      <td>0</td>\n",
       "      <td>0</td>\n",
       "    </tr>\n",
       "    <tr>\n",
       "      <th>3</th>\n",
       "      <td>01.10.2012 03:00</td>\n",
       "      <td>2.0</td>\n",
       "      <td>743.6</td>\n",
       "      <td>755.4</td>\n",
       "      <td>87.0</td>\n",
       "      <td>1</td>\n",
       "      <td>0</td>\n",
       "      <td>0</td>\n",
       "    </tr>\n",
       "    <tr>\n",
       "      <th>4</th>\n",
       "      <td>01.10.2012 04:00</td>\n",
       "      <td>2.0</td>\n",
       "      <td>742.8</td>\n",
       "      <td>754.6</td>\n",
       "      <td>87.0</td>\n",
       "      <td>1</td>\n",
       "      <td>0</td>\n",
       "      <td>0</td>\n",
       "    </tr>\n",
       "  </tbody>\n",
       "</table>\n",
       "</div>\n",
       "    <div class=\"colab-df-buttons\">\n",
       "\n",
       "  <div class=\"colab-df-container\">\n",
       "    <button class=\"colab-df-convert\" onclick=\"convertToInteractive('df-ba1961ec-e073-4f3b-85cd-2e194b0f2323')\"\n",
       "            title=\"Convert this dataframe to an interactive table.\"\n",
       "            style=\"display:none;\">\n",
       "\n",
       "  <svg xmlns=\"http://www.w3.org/2000/svg\" height=\"24px\" viewBox=\"0 -960 960 960\">\n",
       "    <path d=\"M120-120v-720h720v720H120Zm60-500h600v-160H180v160Zm220 220h160v-160H400v160Zm0 220h160v-160H400v160ZM180-400h160v-160H180v160Zm440 0h160v-160H620v160ZM180-180h160v-160H180v160Zm440 0h160v-160H620v160Z\"/>\n",
       "  </svg>\n",
       "    </button>\n",
       "\n",
       "  <style>\n",
       "    .colab-df-container {\n",
       "      display:flex;\n",
       "      gap: 12px;\n",
       "    }\n",
       "\n",
       "    .colab-df-convert {\n",
       "      background-color: #E8F0FE;\n",
       "      border: none;\n",
       "      border-radius: 50%;\n",
       "      cursor: pointer;\n",
       "      display: none;\n",
       "      fill: #1967D2;\n",
       "      height: 32px;\n",
       "      padding: 0 0 0 0;\n",
       "      width: 32px;\n",
       "    }\n",
       "\n",
       "    .colab-df-convert:hover {\n",
       "      background-color: #E2EBFA;\n",
       "      box-shadow: 0px 1px 2px rgba(60, 64, 67, 0.3), 0px 1px 3px 1px rgba(60, 64, 67, 0.15);\n",
       "      fill: #174EA6;\n",
       "    }\n",
       "\n",
       "    .colab-df-buttons div {\n",
       "      margin-bottom: 4px;\n",
       "    }\n",
       "\n",
       "    [theme=dark] .colab-df-convert {\n",
       "      background-color: #3B4455;\n",
       "      fill: #D2E3FC;\n",
       "    }\n",
       "\n",
       "    [theme=dark] .colab-df-convert:hover {\n",
       "      background-color: #434B5C;\n",
       "      box-shadow: 0px 1px 3px 1px rgba(0, 0, 0, 0.15);\n",
       "      filter: drop-shadow(0px 1px 2px rgba(0, 0, 0, 0.3));\n",
       "      fill: #FFFFFF;\n",
       "    }\n",
       "  </style>\n",
       "\n",
       "    <script>\n",
       "      const buttonEl =\n",
       "        document.querySelector('#df-ba1961ec-e073-4f3b-85cd-2e194b0f2323 button.colab-df-convert');\n",
       "      buttonEl.style.display =\n",
       "        google.colab.kernel.accessAllowed ? 'block' : 'none';\n",
       "\n",
       "      async function convertToInteractive(key) {\n",
       "        const element = document.querySelector('#df-ba1961ec-e073-4f3b-85cd-2e194b0f2323');\n",
       "        const dataTable =\n",
       "          await google.colab.kernel.invokeFunction('convertToInteractive',\n",
       "                                                    [key], {});\n",
       "        if (!dataTable) return;\n",
       "\n",
       "        const docLinkHtml = 'Like what you see? Visit the ' +\n",
       "          '<a target=\"_blank\" href=https://colab.research.google.com/notebooks/data_table.ipynb>data table notebook</a>'\n",
       "          + ' to learn more about interactive tables.';\n",
       "        element.innerHTML = '';\n",
       "        dataTable['output_type'] = 'display_data';\n",
       "        await google.colab.output.renderOutput(dataTable, element);\n",
       "        const docLink = document.createElement('div');\n",
       "        docLink.innerHTML = docLinkHtml;\n",
       "        element.appendChild(docLink);\n",
       "      }\n",
       "    </script>\n",
       "  </div>\n",
       "\n",
       "\n",
       "<div id=\"df-6410469d-251c-42ad-86c8-0e98ea81dc3f\">\n",
       "  <button class=\"colab-df-quickchart\" onclick=\"quickchart('df-6410469d-251c-42ad-86c8-0e98ea81dc3f')\"\n",
       "            title=\"Suggest charts\"\n",
       "            style=\"display:none;\">\n",
       "\n",
       "<svg xmlns=\"http://www.w3.org/2000/svg\" height=\"24px\"viewBox=\"0 0 24 24\"\n",
       "     width=\"24px\">\n",
       "    <g>\n",
       "        <path d=\"M19 3H5c-1.1 0-2 .9-2 2v14c0 1.1.9 2 2 2h14c1.1 0 2-.9 2-2V5c0-1.1-.9-2-2-2zM9 17H7v-7h2v7zm4 0h-2V7h2v10zm4 0h-2v-4h2v4z\"/>\n",
       "    </g>\n",
       "</svg>\n",
       "  </button>\n",
       "\n",
       "<style>\n",
       "  .colab-df-quickchart {\n",
       "      --bg-color: #E8F0FE;\n",
       "      --fill-color: #1967D2;\n",
       "      --hover-bg-color: #E2EBFA;\n",
       "      --hover-fill-color: #174EA6;\n",
       "      --disabled-fill-color: #AAA;\n",
       "      --disabled-bg-color: #DDD;\n",
       "  }\n",
       "\n",
       "  [theme=dark] .colab-df-quickchart {\n",
       "      --bg-color: #3B4455;\n",
       "      --fill-color: #D2E3FC;\n",
       "      --hover-bg-color: #434B5C;\n",
       "      --hover-fill-color: #FFFFFF;\n",
       "      --disabled-bg-color: #3B4455;\n",
       "      --disabled-fill-color: #666;\n",
       "  }\n",
       "\n",
       "  .colab-df-quickchart {\n",
       "    background-color: var(--bg-color);\n",
       "    border: none;\n",
       "    border-radius: 50%;\n",
       "    cursor: pointer;\n",
       "    display: none;\n",
       "    fill: var(--fill-color);\n",
       "    height: 32px;\n",
       "    padding: 0;\n",
       "    width: 32px;\n",
       "  }\n",
       "\n",
       "  .colab-df-quickchart:hover {\n",
       "    background-color: var(--hover-bg-color);\n",
       "    box-shadow: 0 1px 2px rgba(60, 64, 67, 0.3), 0 1px 3px 1px rgba(60, 64, 67, 0.15);\n",
       "    fill: var(--button-hover-fill-color);\n",
       "  }\n",
       "\n",
       "  .colab-df-quickchart-complete:disabled,\n",
       "  .colab-df-quickchart-complete:disabled:hover {\n",
       "    background-color: var(--disabled-bg-color);\n",
       "    fill: var(--disabled-fill-color);\n",
       "    box-shadow: none;\n",
       "  }\n",
       "\n",
       "  .colab-df-spinner {\n",
       "    border: 2px solid var(--fill-color);\n",
       "    border-color: transparent;\n",
       "    border-bottom-color: var(--fill-color);\n",
       "    animation:\n",
       "      spin 1s steps(1) infinite;\n",
       "  }\n",
       "\n",
       "  @keyframes spin {\n",
       "    0% {\n",
       "      border-color: transparent;\n",
       "      border-bottom-color: var(--fill-color);\n",
       "      border-left-color: var(--fill-color);\n",
       "    }\n",
       "    20% {\n",
       "      border-color: transparent;\n",
       "      border-left-color: var(--fill-color);\n",
       "      border-top-color: var(--fill-color);\n",
       "    }\n",
       "    30% {\n",
       "      border-color: transparent;\n",
       "      border-left-color: var(--fill-color);\n",
       "      border-top-color: var(--fill-color);\n",
       "      border-right-color: var(--fill-color);\n",
       "    }\n",
       "    40% {\n",
       "      border-color: transparent;\n",
       "      border-right-color: var(--fill-color);\n",
       "      border-top-color: var(--fill-color);\n",
       "    }\n",
       "    60% {\n",
       "      border-color: transparent;\n",
       "      border-right-color: var(--fill-color);\n",
       "    }\n",
       "    80% {\n",
       "      border-color: transparent;\n",
       "      border-right-color: var(--fill-color);\n",
       "      border-bottom-color: var(--fill-color);\n",
       "    }\n",
       "    90% {\n",
       "      border-color: transparent;\n",
       "      border-bottom-color: var(--fill-color);\n",
       "    }\n",
       "  }\n",
       "</style>\n",
       "\n",
       "  <script>\n",
       "    async function quickchart(key) {\n",
       "      const quickchartButtonEl =\n",
       "        document.querySelector('#' + key + ' button');\n",
       "      quickchartButtonEl.disabled = true;  // To prevent multiple clicks.\n",
       "      quickchartButtonEl.classList.add('colab-df-spinner');\n",
       "      try {\n",
       "        const charts = await google.colab.kernel.invokeFunction(\n",
       "            'suggestCharts', [key], {});\n",
       "      } catch (error) {\n",
       "        console.error('Error during call to suggestCharts:', error);\n",
       "      }\n",
       "      quickchartButtonEl.classList.remove('colab-df-spinner');\n",
       "      quickchartButtonEl.classList.add('colab-df-quickchart-complete');\n",
       "    }\n",
       "    (() => {\n",
       "      let quickchartButtonEl =\n",
       "        document.querySelector('#df-6410469d-251c-42ad-86c8-0e98ea81dc3f button');\n",
       "      quickchartButtonEl.style.display =\n",
       "        google.colab.kernel.accessAllowed ? 'block' : 'none';\n",
       "    })();\n",
       "  </script>\n",
       "</div>\n",
       "    </div>\n",
       "  </div>\n"
      ],
      "text/plain": [
       "          LocalTime    T     P0      P     U  DD_Ветер  \\\n",
       "0  01.10.2012 00:00  2.0  744.4  756.2  87.0         1   \n",
       "1  01.10.2012 01:00  2.0  744.4  756.2  87.0         1   \n",
       "2  01.10.2012 02:00  2.0  743.6  755.4  87.0         1   \n",
       "3  01.10.2012 03:00  2.0  743.6  755.4  87.0         1   \n",
       "4  01.10.2012 04:00  2.0  742.8  754.6  87.0         1   \n",
       "\n",
       "   DD_Переменное направление  DD_Штиль  \n",
       "0                          0         0  \n",
       "1                          0         0  \n",
       "2                          0         0  \n",
       "3                          0         0  \n",
       "4                          0         0  "
      ]
     },
     "execution_count": 16,
     "metadata": {},
     "output_type": "execute_result"
    }
   ],
   "source": [
    "df = pd.get_dummies(df, columns=['DD'], dtype = int)\n",
    "df.head()"
   ]
  },
  {
   "cell_type": "code",
   "execution_count": 17,
   "id": "9ba61cce",
   "metadata": {
    "colab": {
     "base_uri": "https://localhost:8080/"
    },
    "id": "9ba61cce",
    "outputId": "8ebcaf95-7cd8-4069-cce0-16f461fad1ea"
   },
   "outputs": [
    {
     "data": {
      "text/plain": [
       "0"
      ]
     },
     "execution_count": 17,
     "metadata": {},
     "output_type": "execute_result"
    }
   ],
   "source": [
    "df.isnull().sum().sum()"
   ]
  },
  {
   "cell_type": "code",
   "execution_count": 18,
   "id": "430cdf32",
   "metadata": {
    "id": "430cdf32"
   },
   "outputs": [],
   "source": [
    "min_max_scaler = MinMaxScaler()\n",
    "\n",
    "df_temp = df['T'].values\n",
    "df_temp = min_max_scaler.fit_transform(df_temp.reshape(-1, 1))"
   ]
  },
  {
   "cell_type": "code",
   "execution_count": 19,
   "id": "7fcf0e31",
   "metadata": {
    "colab": {
     "base_uri": "https://localhost:8080/"
    },
    "id": "7fcf0e31",
    "outputId": "ccacacfd-e131-4bce-ca91-e83e6b387612"
   },
   "outputs": [
    {
     "name": "stdout",
     "output_type": "stream",
     "text": [
      "(116044, 1)\n",
      "(116044,)\n"
     ]
    }
   ],
   "source": [
    "print(df_temp.shape)\n",
    "df_temp = df_temp.flatten()\n",
    "print(df_temp.shape)"
   ]
  },
  {
   "cell_type": "markdown",
   "id": "AJsUaViC6U3w",
   "metadata": {
    "id": "AJsUaViC6U3w"
   },
   "source": [
    "Разделим данные на тренировочную, валидационную и тестовую выборку:"
   ]
  },
  {
   "cell_type": "code",
   "execution_count": 20,
   "id": "438006e4",
   "metadata": {
    "colab": {
     "base_uri": "https://localhost:8080/"
    },
    "id": "438006e4",
    "outputId": "25697b36-043e-493b-9a0e-f6eddd84f132"
   },
   "outputs": [
    {
     "name": "stdout",
     "output_type": "stream",
     "text": [
      "Train =  81220 Validation =  11603 Test =  23206\n"
     ]
    }
   ],
   "source": [
    "window = 15\n",
    "\n",
    "n_samples=df_temp.shape[0]-window\n",
    "n_train_samples=round(0.7*n_samples)\n",
    "n_val_samples=round(0.1*n_samples)\n",
    "n_test_samples=n_samples-n_train_samples-n_val_samples\n",
    "print('Train = ',n_train_samples,'Validation = ',n_val_samples,'Test = ',n_test_samples)"
   ]
  },
  {
   "cell_type": "code",
   "execution_count": 21,
   "id": "624e1d9e",
   "metadata": {
    "id": "624e1d9e"
   },
   "outputs": [],
   "source": [
    "X_train=np.zeros((n_train_samples,window))\n",
    "y_train=np.zeros(n_train_samples)\n",
    "\n",
    "X_val=np.zeros((n_val_samples,window))\n",
    "y_val=np.zeros(n_val_samples)\n",
    "\n",
    "X_test=np.zeros((n_test_samples,window))\n",
    "y_test=np.zeros(n_test_samples)"
   ]
  },
  {
   "cell_type": "code",
   "execution_count": 22,
   "id": "d4f87bf9",
   "metadata": {
    "id": "d4f87bf9"
   },
   "outputs": [],
   "source": [
    "for i in range(n_train_samples):\n",
    "  for j in range(window):\n",
    "    X_train[i,j]=df_temp[i+j]\n",
    "  y_train[i]=df_temp[i+window]\n",
    "\n",
    "for i in range(n_val_samples):\n",
    "  for j in range(window):\n",
    "    X_val[i,j]=df_temp[n_train_samples+i+j]\n",
    "  y_val[i]=df_temp[n_train_samples+i+window]\n",
    "\n",
    "for i in range(n_test_samples):\n",
    "  for j in range(window):\n",
    "    X_test[i,j]=df_temp[n_train_samples+n_val_samples+i+j]\n",
    "  y_test[i]=df_temp[n_train_samples+n_val_samples+i+window]"
   ]
  },
  {
   "cell_type": "markdown",
   "id": "nOwmlMwt6nzY",
   "metadata": {
    "id": "nOwmlMwt6nzY"
   },
   "source": [
    "### Создание моделей. Base Model"
   ]
  },
  {
   "cell_type": "markdown",
   "id": "8-JW9sdr8uV6",
   "metadata": {
    "id": "8-JW9sdr8uV6"
   },
   "source": [
    "Создадим базовую модель нейронной сети, состоящую из 2 слоёв:\n",
    "\n",
    "1. Слой SimpleRNN, 10 нейронов, функция активации - ReLU\n",
    "2. 1 нейрон, функция активации - Linear"
   ]
  },
  {
   "cell_type": "code",
   "execution_count": 69,
   "id": "7adadfa4-4896-4666-b7fd-6d50d8f34a3a",
   "metadata": {
    "colab": {
     "base_uri": "https://localhost:8080/"
    },
    "id": "7adadfa4-4896-4666-b7fd-6d50d8f34a3a",
    "outputId": "749a0a70-7fbe-4bdc-a04d-88cc835b9d31"
   },
   "outputs": [
    {
     "name": "stdout",
     "output_type": "stream",
     "text": [
      "Model: \"sequential_4\"\n",
      "_________________________________________________________________\n",
      " Layer (type)                Output Shape              Param #   \n",
      "=================================================================\n",
      " simple_rnn_3 (SimpleRNN)    (None, 10)                120       \n",
      "                                                                 \n",
      " dense_4 (Dense)             (None, 1)                 11        \n",
      "                                                                 \n",
      "=================================================================\n",
      "Total params: 131 (524.00 Byte)\n",
      "Trainable params: 131 (524.00 Byte)\n",
      "Non-trainable params: 0 (0.00 Byte)\n",
      "_________________________________________________________________\n"
     ]
    }
   ],
   "source": [
    "simple_rnn_model = Sequential(\n",
    "    [\n",
    "        layers.SimpleRNN(10,activation='relu',input_shape=(window,1)),\n",
    "        layers.Dense(1, activation = 'linear')\n",
    "    ]\n",
    ")\n",
    "simple_rnn_model.summary()"
   ]
  },
  {
   "cell_type": "code",
   "execution_count": 70,
   "id": "c743d25f",
   "metadata": {
    "id": "c743d25f"
   },
   "outputs": [],
   "source": [
    "simple_rnn_model.compile(loss='mse',optimizer='adam',metrics='mae')"
   ]
  },
  {
   "cell_type": "code",
   "execution_count": 71,
   "id": "eee9748c",
   "metadata": {
    "id": "eee9748c"
   },
   "outputs": [],
   "source": [
    "early_stop = EarlyStopping(monitor='val_mae',patience=3,mode='min',verbose=1)\n",
    "checkpoint = ModelCheckpoint('simple_rnn-temperature-{epoch:02d}-{val_mae:.3f}.hdf5',\n",
    "                              monitor='val_mae',verbose=1,mode='min',\n",
    "                              save_best_only=True)\n",
    "callbacks_list=[early_stop,checkpoint]"
   ]
  },
  {
   "cell_type": "markdown",
   "id": "1qZvpWLU9TPf",
   "metadata": {
    "id": "1qZvpWLU9TPf"
   },
   "source": [
    "Зададим количество объектов в одном батче, равное 30, и число эпох, равное 40:"
   ]
  },
  {
   "cell_type": "code",
   "execution_count": 72,
   "id": "f63d491c",
   "metadata": {
    "colab": {
     "base_uri": "https://localhost:8080/"
    },
    "id": "f63d491c",
    "outputId": "f4401c3f-0ba4-4bbe-efe8-482ffc45ed60",
    "scrolled": true
   },
   "outputs": [
    {
     "name": "stdout",
     "output_type": "stream",
     "text": [
      "Epoch 1/40\n",
      "2701/2708 [============================>.] - ETA: 0s - loss: 0.0047 - mae: 0.0197\n",
      "Epoch 1: val_mae improved from inf to 0.00767, saving model to simple_rnn-temperature-01-0.008.hdf5\n",
      "2708/2708 [==============================] - 17s 6ms/step - loss: 0.0047 - mae: 0.0196 - val_loss: 1.0940e-04 - val_mae: 0.0077\n",
      "Epoch 2/40\n",
      "  38/2708 [..............................] - ETA: 11s - loss: 1.3018e-04 - mae: 0.0084"
     ]
    },
    {
     "name": "stderr",
     "output_type": "stream",
     "text": [
      "/usr/local/lib/python3.10/dist-packages/keras/src/engine/training.py:3103: UserWarning: You are saving your model as an HDF5 file via `model.save()`. This file format is considered legacy. We recommend using instead the native Keras format, e.g. `model.save('my_model.keras')`.\n",
      "  saving_api.save_model(\n"
     ]
    },
    {
     "name": "stdout",
     "output_type": "stream",
     "text": [
      "2700/2708 [============================>.] - ETA: 0s - loss: 1.3009e-04 - mae: 0.0081\n",
      "Epoch 2: val_mae improved from 0.00767 to 0.00649, saving model to simple_rnn-temperature-02-0.006.hdf5\n",
      "2708/2708 [==============================] - 15s 6ms/step - loss: 1.3002e-04 - mae: 0.0081 - val_loss: 8.8338e-05 - val_mae: 0.0065\n",
      "Epoch 3/40\n",
      "2707/2708 [============================>.] - ETA: 0s - loss: 1.2408e-04 - mae: 0.0080\n",
      "Epoch 3: val_mae did not improve from 0.00649\n",
      "2708/2708 [==============================] - 16s 6ms/step - loss: 1.2408e-04 - mae: 0.0080 - val_loss: 8.7932e-05 - val_mae: 0.0065\n",
      "Epoch 4/40\n",
      "2702/2708 [============================>.] - ETA: 0s - loss: 1.2006e-04 - mae: 0.0078\n",
      "Epoch 4: val_mae improved from 0.00649 to 0.00631, saving model to simple_rnn-temperature-04-0.006.hdf5\n",
      "2708/2708 [==============================] - 16s 6ms/step - loss: 1.2010e-04 - mae: 0.0078 - val_loss: 8.5095e-05 - val_mae: 0.0063\n",
      "Epoch 5/40\n",
      "2705/2708 [============================>.] - ETA: 0s - loss: 1.1646e-04 - mae: 0.0077\n",
      "Epoch 5: val_mae did not improve from 0.00631\n",
      "2708/2708 [==============================] - 15s 6ms/step - loss: 1.1646e-04 - mae: 0.0077 - val_loss: 8.5806e-05 - val_mae: 0.0064\n",
      "Epoch 6/40\n",
      "2706/2708 [============================>.] - ETA: 0s - loss: 1.1337e-04 - mae: 0.0075\n",
      "Epoch 6: val_mae improved from 0.00631 to 0.00625, saving model to simple_rnn-temperature-06-0.006.hdf5\n",
      "2708/2708 [==============================] - 15s 6ms/step - loss: 1.1337e-04 - mae: 0.0075 - val_loss: 8.3627e-05 - val_mae: 0.0062\n",
      "Epoch 7/40\n",
      "2705/2708 [============================>.] - ETA: 0s - loss: 1.1306e-04 - mae: 0.0075\n",
      "Epoch 7: val_mae did not improve from 0.00625\n",
      "2708/2708 [==============================] - 19s 7ms/step - loss: 1.1308e-04 - mae: 0.0075 - val_loss: 8.4157e-05 - val_mae: 0.0063\n",
      "Epoch 8/40\n",
      "2700/2708 [============================>.] - ETA: 0s - loss: 1.1192e-04 - mae: 0.0075\n",
      "Epoch 8: val_mae did not improve from 0.00625\n",
      "2708/2708 [==============================] - 16s 6ms/step - loss: 1.1205e-04 - mae: 0.0075 - val_loss: 8.6678e-05 - val_mae: 0.0065\n",
      "Epoch 9/40\n",
      "2702/2708 [============================>.] - ETA: 0s - loss: 1.1180e-04 - mae: 0.0075\n",
      "Epoch 9: val_mae did not improve from 0.00625\n",
      "2708/2708 [==============================] - 15s 5ms/step - loss: 1.1177e-04 - mae: 0.0075 - val_loss: 1.0226e-04 - val_mae: 0.0075\n",
      "Epoch 9: early stopping\n"
     ]
    }
   ],
   "source": [
    "simple_rnn_model_history = simple_rnn_model.fit(X_train,y_train,batch_size=30,epochs=40,\n",
    "                                callbacks=callbacks_list,\n",
    "                                validation_data=(X_val,y_val))"
   ]
  },
  {
   "cell_type": "code",
   "execution_count": 73,
   "id": "170d35e9-0d4e-4f89-b8b1-91a6b12089dc",
   "metadata": {
    "colab": {
     "base_uri": "https://localhost:8080/",
     "height": 472
    },
    "id": "170d35e9-0d4e-4f89-b8b1-91a6b12089dc",
    "outputId": "54e87d5a-e911-4f19-f28f-ab611cd489de"
   },
   "outputs": [
    {
     "data": {
      "image/png": "[encoded data removed]",
      "text/plain": [
       "<Figure size 640x480 with 1 Axes>"
      ]
     },
     "metadata": {},
     "output_type": "display_data"
    }
   ],
   "source": [
    "loss_function = simple_rnn_model_history.history['loss']\n",
    "val_loss_function = simple_rnn_model_history.history['val_loss']\n",
    "\n",
    "epochs=range(1,len(loss_function)+1)\n",
    "\n",
    "plt.title('Loss value (Train & Val Sets)')\n",
    "plt.plot(epochs,loss_function,color='green',label='Train Loss')\n",
    "plt.plot(epochs,val_loss_function,color='red',label='Val Loss')\n",
    "plt.xlabel('Epochs')\n",
    "plt.ylabel('Loss')\n",
    "plt.legend()\n",
    "plt.show()"
   ]
  },
  {
   "cell_type": "code",
   "execution_count": 74,
   "id": "475c26be",
   "metadata": {
    "colab": {
     "base_uri": "https://localhost:8080/",
     "height": 472
    },
    "id": "475c26be",
    "outputId": "323e5dd2-1d9c-4d9f-e363-a9178420a1cc"
   },
   "outputs": [
    {
     "data": {
      "image/png": "[encoded data removed]",
      "text/plain": [
       "<Figure size 640x480 with 1 Axes>"
      ]
     },
     "metadata": {},
     "output_type": "display_data"
    }
   ],
   "source": [
    "mae_function = simple_rnn_model_history.history['mae']\n",
    "val_mae_function = simple_rnn_model_history.history['val_mae']\n",
    "\n",
    "epochs=range(1,len(loss_function)+1)\n",
    "\n",
    "plt.title('MAE value (Train & Val Sets)')\n",
    "plt.plot(epochs,mae_function,color='green',label='Train MAE')\n",
    "plt.plot(epochs,val_mae_function,color='red',label='Val MAE')\n",
    "plt.xlabel('Epochs')\n",
    "plt.ylabel('Mean Absolute Error')\n",
    "plt.legend()\n",
    "plt.show()"
   ]
  },
  {
   "cell_type": "code",
   "execution_count": 75,
   "id": "30ee795a",
   "metadata": {
    "colab": {
     "base_uri": "https://localhost:8080/"
    },
    "id": "30ee795a",
    "outputId": "e75d2e3c-4a63-43b7-fb07-6dd25579e157"
   },
   "outputs": [
    {
     "name": "stdout",
     "output_type": "stream",
     "text": [
      "726/726 [==============================] - 2s 2ms/step\n",
      "MSE =  0.0  K degrees\n",
      "MAE =  0.008  K degrees\n",
      "R2-score =  0.998\n"
     ]
    }
   ],
   "source": [
    "y_pred = simple_rnn_model.predict(X_test)\n",
    "y_pred_inv = min_max_scaler.inverse_transform(y_pred)\n",
    "y_test_inv = min_max_scaler.inverse_transform(y_test.reshape(-1,1))\n",
    "print('MSE = ',round(mean_squared_error(y_true=y_test_inv,y_pred=y_pred_inv),3),' K degrees')\n",
    "print('MAE = ',round(mean_absolute_error(y_true=y_test_inv,y_pred=y_pred_inv),3),' K degrees')\n",
    "print('R2-score = ',round(r2_score(y_test_inv,y_pred_inv),3))"
   ]
  },
  {
   "cell_type": "code",
   "execution_count": 76,
   "id": "95300b73-497f-41c6-a7c9-122155282e82",
   "metadata": {
    "colab": {
     "base_uri": "https://localhost:8080/",
     "height": 447
    },
    "id": "95300b73-497f-41c6-a7c9-122155282e82",
    "outputId": "c822f53f-9a44-4ce9-c00d-579e4ccf6978"
   },
   "outputs": [
    {
     "data": {
      "text/plain": [
       "[<matplotlib.lines.Line2D at 0x77fe9ad78700>]"
      ]
     },
     "execution_count": 76,
     "metadata": {},
     "output_type": "execute_result"
    },
    {
     "data": {
      "image/png": "[encoded data removed]",
      "text/plain": [
       "<Figure size 640x480 with 1 Axes>"
      ]
     },
     "metadata": {},
     "output_type": "display_data"
    }
   ],
   "source": [
    "plt.plot(range(1,len(y_test_inv)+1),y_test_inv)\n",
    "plt.plot(range(1,len(y_pred_inv)+1),y_pred_inv)"
   ]
  },
  {
   "cell_type": "markdown",
   "id": "SBAFX-VJ9Y-A",
   "metadata": {
    "id": "SBAFX-VJ9Y-A"
   },
   "source": [
    "Добавим остальные данные для обучения модели:"
   ]
  },
  {
   "cell_type": "code",
   "execution_count": 32,
   "id": "884c613f-ea2d-49e2-b142-5b7e33ce7e81",
   "metadata": {
    "id": "884c613f-ea2d-49e2-b142-5b7e33ce7e81"
   },
   "outputs": [],
   "source": [
    "df_all = df.drop('LocalTime', axis=1)\n",
    "df_all = min_max_scaler.fit_transform(df_all)"
   ]
  },
  {
   "cell_type": "code",
   "execution_count": 33,
   "id": "ecb53c0e-cf5b-4379-908f-552aae7224e3",
   "metadata": {
    "colab": {
     "base_uri": "https://localhost:8080/"
    },
    "id": "ecb53c0e-cf5b-4379-908f-552aae7224e3",
    "outputId": "064f2cb6-60da-4f3c-f4c5-89d7621ca060"
   },
   "outputs": [
    {
     "name": "stdout",
     "output_type": "stream",
     "text": [
      "(116044, 7)\n",
      "(812308,)\n"
     ]
    }
   ],
   "source": [
    "print(df_all.shape)\n",
    "df_all = df_all.flatten()\n",
    "print(df_all.shape)"
   ]
  },
  {
   "cell_type": "code",
   "execution_count": 34,
   "id": "f87ee17d-ad02-4803-b4e6-ca5c3eb38c5a",
   "metadata": {
    "colab": {
     "base_uri": "https://localhost:8080/"
    },
    "id": "f87ee17d-ad02-4803-b4e6-ca5c3eb38c5a",
    "outputId": "1becbfd1-96f1-484e-9303-21599de1b332"
   },
   "outputs": [
    {
     "name": "stdout",
     "output_type": "stream",
     "text": [
      "Train =  568602 Validation =  81229 Test =  162457\n"
     ]
    }
   ],
   "source": [
    "window_all = 20\n",
    "\n",
    "n_samples_all=df_all.shape[0]-window_all\n",
    "n_train_samples_all=round(0.7*n_samples_all)\n",
    "n_val_samples_all=round(0.1*n_samples_all)\n",
    "n_test_samples_all=n_samples_all-n_train_samples_all-n_val_samples_all\n",
    "print('Train = ',n_train_samples_all,'Validation = ',n_val_samples_all,'Test = ',n_test_samples_all)"
   ]
  },
  {
   "cell_type": "code",
   "execution_count": 35,
   "id": "ae29d4ce-2cc1-4345-8dd2-4ebd0ef007aa",
   "metadata": {
    "id": "ae29d4ce-2cc1-4345-8dd2-4ebd0ef007aa"
   },
   "outputs": [],
   "source": [
    "X_train_all=np.zeros((n_train_samples_all,window_all,7))\n",
    "y_train_all=np.zeros(n_train_samples_all)\n",
    "\n",
    "X_val_all=np.zeros((n_val_samples_all,window_all,7))\n",
    "y_val_all=np.zeros(n_val_samples_all)\n",
    "\n",
    "X_test_all=np.zeros((n_test_samples_all,window_all,7))\n",
    "y_test_all=np.zeros(n_test_samples_all)"
   ]
  },
  {
   "cell_type": "code",
   "execution_count": 36,
   "id": "96eeb9f4-800d-461f-82d5-627024411c41",
   "metadata": {
    "id": "96eeb9f4-800d-461f-82d5-627024411c41"
   },
   "outputs": [],
   "source": [
    "for i in range(n_train_samples_all):\n",
    "  for j in range(window_all):\n",
    "    X_train_all[i,j]=df_all[i+j]\n",
    "  y_train_all[i]=df_all[i+window_all]\n",
    "\n",
    "for i in range(n_val_samples_all):\n",
    "  for j in range(window_all):\n",
    "    X_val_all[i,j]=df_all[n_train_samples_all+i+j]\n",
    "  y_val_all[i]=df_all[n_train_samples_all+i+window_all]\n",
    "\n",
    "for i in range(n_test_samples_all):\n",
    "  for j in range(window_all):\n",
    "    X_test_all[i,j]=df_all[n_train_samples_all+n_val_samples_all+i+j]\n",
    "  y_test_all[i]=df_all[n_train_samples_all+n_val_samples_all+i+window_all]"
   ]
  },
  {
   "cell_type": "markdown",
   "id": "dWi1t1n-9HQa",
   "metadata": {
    "id": "dWi1t1n-9HQa"
   },
   "source": [
    "### Second Model"
   ]
  },
  {
   "cell_type": "markdown",
   "id": "3J9sXPd-8-l_",
   "metadata": {
    "id": "3J9sXPd-8-l_"
   },
   "source": [
    "Создадим вторую модель нейронной сети, состоящую из 2 слоёв:\n",
    "\n",
    "1. Слой SimpleRNN, 20 нейронов, функция активации - ReLU\n",
    "2. 1 нейрон, функция активации - Linear"
   ]
  },
  {
   "cell_type": "code",
   "execution_count": 37,
   "id": "36fd8c65-b2c4-4028-8730-c9ac3f9ce045",
   "metadata": {
    "colab": {
     "base_uri": "https://localhost:8080/"
    },
    "id": "36fd8c65-b2c4-4028-8730-c9ac3f9ce045",
    "outputId": "1b32b72e-f00d-4cff-f254-1013922b755b"
   },
   "outputs": [
    {
     "name": "stdout",
     "output_type": "stream",
     "text": [
      "Model: \"sequential_1\"\n",
      "_________________________________________________________________\n",
      " Layer (type)                Output Shape              Param #   \n",
      "=================================================================\n",
      " simple_rnn_1 (SimpleRNN)    (None, 20)                560       \n",
      "                                                                 \n",
      " dense_1 (Dense)             (None, 1)                 21        \n",
      "                                                                 \n",
      "=================================================================\n",
      "Total params: 581 (2.27 KB)\n",
      "Trainable params: 581 (2.27 KB)\n",
      "Non-trainable params: 0 (0.00 Byte)\n",
      "_________________________________________________________________\n"
     ]
    }
   ],
   "source": [
    "simple_rnn_all_model = Sequential(\n",
    "    [\n",
    "        layers.SimpleRNN(20,activation='relu',input_shape=(window_all,7)),\n",
    "        layers.Dense(1, activation = 'linear')\n",
    "    ]\n",
    ")\n",
    "simple_rnn_all_model.summary()"
   ]
  },
  {
   "cell_type": "code",
   "execution_count": 38,
   "id": "e7a28c32-9c23-48fa-8bc2-48bbb10eccf7",
   "metadata": {
    "id": "e7a28c32-9c23-48fa-8bc2-48bbb10eccf7"
   },
   "outputs": [],
   "source": [
    "simple_rnn_all_model.compile(loss='mse',optimizer='adam',metrics='mae')"
   ]
  },
  {
   "cell_type": "code",
   "execution_count": 41,
   "id": "3a48bce8-b3e1-48da-91ee-abd05f2ac4fa",
   "metadata": {
    "id": "3a48bce8-b3e1-48da-91ee-abd05f2ac4fa"
   },
   "outputs": [],
   "source": [
    "early_stop = EarlyStopping(monitor='val_mae',patience=3,mode='min',verbose=1)\n",
    "checkpoint = ModelCheckpoint('simple_rnn-temperature-{epoch:02d}-{val_mae:.3f}.hdf5',\n",
    "                              monitor='val_mae',verbose=1,mode='min',\n",
    "                              save_best_only=True)\n",
    "callbacks_list=[early_stop,checkpoint]"
   ]
  },
  {
   "cell_type": "markdown",
   "id": "2Ley5rGJ9jvp",
   "metadata": {
    "id": "2Ley5rGJ9jvp"
   },
   "source": [
    "Увеличим количество объектов в одном батче в 10 раз:"
   ]
  },
  {
   "cell_type": "code",
   "execution_count": 42,
   "id": "24476d22-d74a-4200-98b1-6abc0831a4f1",
   "metadata": {
    "colab": {
     "base_uri": "https://localhost:8080/"
    },
    "id": "24476d22-d74a-4200-98b1-6abc0831a4f1",
    "outputId": "ee84a977-45f6-4499-f5eb-72a6eddd59ef"
   },
   "outputs": [
    {
     "name": "stdout",
     "output_type": "stream",
     "text": [
      "Epoch 1/40\n",
      "1889/1896 [============================>.] - ETA: 0s - loss: 0.0158 - mae: 0.0627\n",
      "Epoch 1: val_mae improved from inf to 0.04675, saving model to simple_rnn-temperature-01-0.047.hdf5\n",
      "1896/1896 [==============================] - 19s 10ms/step - loss: 0.0157 - mae: 0.0627 - val_loss: 0.0125 - val_mae: 0.0467\n",
      "Epoch 2/40\n",
      "  15/1896 [..............................] - ETA: 14s - loss: 0.0137 - mae: 0.0551"
     ]
    },
    {
     "name": "stderr",
     "output_type": "stream",
     "text": [
      "/usr/local/lib/python3.10/dist-packages/keras/src/engine/training.py:3103: UserWarning: You are saving your model as an HDF5 file via `model.save()`. This file format is considered legacy. We recommend using instead the native Keras format, e.g. `model.save('my_model.keras')`.\n",
      "  saving_api.save_model(\n"
     ]
    },
    {
     "name": "stdout",
     "output_type": "stream",
     "text": [
      "1894/1896 [============================>.] - ETA: 0s - loss: 0.0137 - mae: 0.0525\n",
      "Epoch 2: val_mae did not improve from 0.04675\n",
      "1896/1896 [==============================] - 15s 8ms/step - loss: 0.0137 - mae: 0.0525 - val_loss: 0.0126 - val_mae: 0.0513\n",
      "Epoch 3/40\n",
      "1895/1896 [============================>.] - ETA: 0s - loss: 0.0132 - mae: 0.0496\n",
      "Epoch 3: val_mae improved from 0.04675 to 0.04485, saving model to simple_rnn-temperature-03-0.045.hdf5\n",
      "1896/1896 [==============================] - 15s 8ms/step - loss: 0.0132 - mae: 0.0496 - val_loss: 0.0119 - val_mae: 0.0448\n",
      "Epoch 4/40\n",
      "1893/1896 [============================>.] - ETA: 0s - loss: 0.0130 - mae: 0.0483\n",
      "Epoch 4: val_mae improved from 0.04485 to 0.04241, saving model to simple_rnn-temperature-04-0.042.hdf5\n",
      "1896/1896 [==============================] - 15s 8ms/step - loss: 0.0130 - mae: 0.0483 - val_loss: 0.0117 - val_mae: 0.0424\n",
      "Epoch 5/40\n",
      "1896/1896 [==============================] - ETA: 0s - loss: 0.0128 - mae: 0.0471\n",
      "Epoch 5: val_mae did not improve from 0.04241\n",
      "1896/1896 [==============================] - 16s 8ms/step - loss: 0.0128 - mae: 0.0471 - val_loss: 0.0120 - val_mae: 0.0486\n",
      "Epoch 6/40\n",
      "1893/1896 [============================>.] - ETA: 0s - loss: 0.0127 - mae: 0.0461\n",
      "Epoch 6: val_mae improved from 0.04241 to 0.03953, saving model to simple_rnn-temperature-06-0.040.hdf5\n",
      "1896/1896 [==============================] - 16s 9ms/step - loss: 0.0127 - mae: 0.0461 - val_loss: 0.0114 - val_mae: 0.0395\n",
      "Epoch 7/40\n",
      "1890/1896 [============================>.] - ETA: 0s - loss: 0.0125 - mae: 0.0453\n",
      "Epoch 7: val_mae did not improve from 0.03953\n",
      "1896/1896 [==============================] - 17s 9ms/step - loss: 0.0125 - mae: 0.0453 - val_loss: 0.0115 - val_mae: 0.0416\n",
      "Epoch 8/40\n",
      "1892/1896 [============================>.] - ETA: 0s - loss: 0.0125 - mae: 0.0452\n",
      "Epoch 8: val_mae did not improve from 0.03953\n",
      "1896/1896 [==============================] - 16s 8ms/step - loss: 0.0125 - mae: 0.0452 - val_loss: 0.0114 - val_mae: 0.0416\n",
      "Epoch 9/40\n",
      "1893/1896 [============================>.] - ETA: 0s - loss: 0.0124 - mae: 0.0441\n",
      "Epoch 9: val_mae did not improve from 0.03953\n",
      "1896/1896 [==============================] - 16s 8ms/step - loss: 0.0124 - mae: 0.0441 - val_loss: 0.0113 - val_mae: 0.0401\n",
      "Epoch 9: early stopping\n"
     ]
    }
   ],
   "source": [
    "simple_rnn_all_model_history = simple_rnn_all_model.fit(X_train_all,y_train_all,batch_size=300,epochs=40,\n",
    "                                callbacks=callbacks_list,\n",
    "                                validation_data=(X_val_all,y_val_all))"
   ]
  },
  {
   "cell_type": "code",
   "execution_count": 43,
   "id": "6a122f20-bd24-4c7f-8bf9-91e2f21aa900",
   "metadata": {
    "colab": {
     "base_uri": "https://localhost:8080/",
     "height": 472
    },
    "id": "6a122f20-bd24-4c7f-8bf9-91e2f21aa900",
    "outputId": "1a2402a3-bad0-42fa-872b-d94bb0c35359"
   },
   "outputs": [
    {
     "data": {
      "image/png": "[encoded data removed]",
      "text/plain": [
       "<Figure size 640x480 with 1 Axes>"
      ]
     },
     "metadata": {},
     "output_type": "display_data"
    }
   ],
   "source": [
    "loss_function = simple_rnn_all_model_history.history['loss']\n",
    "val_loss_function = simple_rnn_all_model_history.history['val_loss']\n",
    "\n",
    "epochs=range(1,len(loss_function)+1)\n",
    "\n",
    "plt.title('Loss value (Train & Val Sets)')\n",
    "plt.plot(epochs,loss_function,color='green',label='Train Loss')\n",
    "plt.plot(epochs,val_loss_function,color='red',label='Val Loss')\n",
    "plt.xlabel('Epochs')\n",
    "plt.ylabel('Loss')\n",
    "plt.legend()\n",
    "plt.show()"
   ]
  },
  {
   "cell_type": "code",
   "execution_count": 44,
   "id": "dfaf81fb-638e-4ce1-8858-3d063c219c73",
   "metadata": {
    "colab": {
     "base_uri": "https://localhost:8080/",
     "height": 472
    },
    "id": "dfaf81fb-638e-4ce1-8858-3d063c219c73",
    "outputId": "6a369458-4f4c-4fb7-d5aa-d26d90ddf701"
   },
   "outputs": [
    {
     "data": {
      "image/png": "[encoded data removed]",
      "text/plain": [
       "<Figure size 640x480 with 1 Axes>"
      ]
     },
     "metadata": {},
     "output_type": "display_data"
    }
   ],
   "source": [
    "mae_function = simple_rnn_all_model_history.history['mae']\n",
    "val_mae_function = simple_rnn_all_model_history.history['val_mae']\n",
    "\n",
    "epochs=range(1,len(loss_function)+1)\n",
    "\n",
    "plt.title('MAE value (Train & Val Sets)')\n",
    "plt.plot(epochs,mae_function,color='green',label='Train MAE')\n",
    "plt.plot(epochs,val_mae_function,color='red',label='Val MAE')\n",
    "plt.xlabel('Epochs')\n",
    "plt.ylabel('Mean Absolute Error')\n",
    "plt.legend()\n",
    "plt.show()"
   ]
  },
  {
   "cell_type": "code",
   "execution_count": 55,
   "id": "61be2ce1-d08a-4c77-b9f7-aeade2f8bf05",
   "metadata": {
    "colab": {
     "base_uri": "https://localhost:8080/"
    },
    "id": "61be2ce1-d08a-4c77-b9f7-aeade2f8bf05",
    "outputId": "999cccc5-d426-446d-f7a9-5ea11b16d1aa"
   },
   "outputs": [
    {
     "name": "stdout",
     "output_type": "stream",
     "text": [
      "5077/5077 [==============================] - 15s 3ms/step\n",
      "MSE =  0.006  K degrees\n",
      "MAE =  0.031  K degrees\n",
      "R2-score =  0.951\n"
     ]
    }
   ],
   "source": [
    "min_max_scaler.fit(y_train_all.reshape(-1, 1))\n",
    "y_pred = simple_rnn_all_model.predict(X_test_all)\n",
    "y_pred_inv = min_max_scaler.inverse_transform(y_pred)\n",
    "y_test_inv = min_max_scaler.inverse_transform(y_test_all.reshape(-1,1))\n",
    "print('MSE = ',round(mean_squared_error(y_true=y_test_inv,y_pred=y_pred_inv),3),' K degrees')\n",
    "print('MAE = ',round(mean_absolute_error(y_true=y_test_inv,y_pred=y_pred_inv),3),' K degrees')\n",
    "print('R2-score = ',round(r2_score(y_test_inv,y_pred_inv),3))"
   ]
  },
  {
   "cell_type": "code",
   "execution_count": 46,
   "id": "24212c6f-cbcb-41ec-af4f-2903adf0844d",
   "metadata": {
    "colab": {
     "base_uri": "https://localhost:8080/"
    },
    "id": "24212c6f-cbcb-41ec-af4f-2903adf0844d",
    "outputId": "646a113b-8b67-45aa-e272-9bdf966caa0a"
   },
   "outputs": [
    {
     "name": "stdout",
     "output_type": "stream",
     "text": [
      "1/1 [==============================] - 0s 27ms/step\n",
      "Предсказанная температура: 0.31073916\n",
      "Реальная температура: 0.32188841201716656\n"
     ]
    }
   ],
   "source": [
    "x = X_test_all[2]\n",
    "x = x.reshape((1,) + x.shape)\n",
    "y_pred = simple_rnn_all_model.predict(x)\n",
    "y_pred_inv = min_max_scaler.inverse_transform(y_pred)\n",
    "truth = y_test_all[2]\n",
    "truth_inv = min_max_scaler.inverse_transform(truth.reshape(-1, 1))\n",
    "print('Предсказанная температура:', y_pred_inv[0, 0])\n",
    "print('Реальная температура:', truth_inv[0, 0])"
   ]
  },
  {
   "cell_type": "markdown",
   "id": "jZ7zJF4gFYtU",
   "metadata": {
    "id": "jZ7zJF4gFYtU"
   },
   "source": [
    "## Задание №2. GRU"
   ]
  },
  {
   "cell_type": "markdown",
   "id": "92587d76",
   "metadata": {},
   "source": [
    "### Создание моделей. Base Model"
   ]
  },
  {
   "cell_type": "markdown",
   "id": "ddk0rLFIFxF7",
   "metadata": {
    "id": "ddk0rLFIFxF7"
   },
   "source": [
    "Создадим базовую модель нейронной сети, состоящую из 2 слоёв:\n",
    "\n",
    "1. Слой GRU, 10 нейронов\n",
    "2. 1 нейрон, функция активации - Linear"
   ]
  },
  {
   "cell_type": "code",
   "execution_count": 47,
   "id": "8418b836",
   "metadata": {
    "colab": {
     "base_uri": "https://localhost:8080/"
    },
    "id": "8418b836",
    "outputId": "a50b6392-8900-4b81-f478-66d26b3920dd"
   },
   "outputs": [
    {
     "name": "stdout",
     "output_type": "stream",
     "text": [
      "Model: \"sequential_2\"\n",
      "_________________________________________________________________\n",
      " Layer (type)                Output Shape              Param #   \n",
      "=================================================================\n",
      " gru (GRU)                   (None, 10)                390       \n",
      "                                                                 \n",
      " dense_2 (Dense)             (None, 1)                 11        \n",
      "                                                                 \n",
      "=================================================================\n",
      "Total params: 401 (1.57 KB)\n",
      "Trainable params: 401 (1.57 KB)\n",
      "Non-trainable params: 0 (0.00 Byte)\n",
      "_________________________________________________________________\n"
     ]
    }
   ],
   "source": [
    "gru_model = Sequential(\n",
    "    [\n",
    "        layers.GRU(10,input_shape=(window,1)),\n",
    "        layers.Dense(1, activation = 'linear')\n",
    "    ]\n",
    ")\n",
    "gru_model.summary()"
   ]
  },
  {
   "cell_type": "code",
   "execution_count": 48,
   "id": "d21d3f1d",
   "metadata": {
    "id": "d21d3f1d"
   },
   "outputs": [],
   "source": [
    "gru_model.compile(optimizer='adam',loss='mse',metrics='mae')"
   ]
  },
  {
   "cell_type": "code",
   "execution_count": 49,
   "id": "ae9a3556-3662-4b3d-b1d9-d7d0938598af",
   "metadata": {
    "id": "ae9a3556-3662-4b3d-b1d9-d7d0938598af"
   },
   "outputs": [],
   "source": [
    "early_stop = EarlyStopping(monitor='val_mae',patience=3,mode='min',verbose=1)\n",
    "checkpoint = ModelCheckpoint('gru-temperature-{epoch:02d}-{val_mae:.3f}.hdf5',\n",
    "                              monitor='val_mae',verbose=1,mode='min',\n",
    "                              save_best_only=True)\n",
    "callbacks_list=[early_stop,checkpoint]"
   ]
  },
  {
   "cell_type": "markdown",
   "id": "JbCqOOeSGIL7",
   "metadata": {
    "id": "JbCqOOeSGIL7"
   },
   "source": [
    "Зададим количество объектов в одном батче, равное 30, и число эпох, равное 40:"
   ]
  },
  {
   "cell_type": "code",
   "execution_count": 50,
   "id": "ac6be98b",
   "metadata": {
    "colab": {
     "base_uri": "https://localhost:8080/"
    },
    "id": "ac6be98b",
    "outputId": "1f904cb0-399d-42c6-bc56-1974286938c3"
   },
   "outputs": [
    {
     "name": "stdout",
     "output_type": "stream",
     "text": [
      "Epoch 1/40\n",
      "2708/2708 [==============================] - ETA: 0s - loss: 0.0046 - mae: 0.0252\n",
      "Epoch 1: val_mae improved from inf to 0.00760, saving model to gru-temperature-01-0.008.hdf5\n",
      "2708/2708 [==============================] - 30s 10ms/step - loss: 0.0046 - mae: 0.0252 - val_loss: 1.1781e-04 - val_mae: 0.0076\n",
      "Epoch 2/40\n",
      "  14/2708 [..............................] - ETA: 23s - loss: 1.5217e-04 - mae: 0.0090"
     ]
    },
    {
     "name": "stderr",
     "output_type": "stream",
     "text": [
      "/usr/local/lib/python3.10/dist-packages/keras/src/engine/training.py:3103: UserWarning: You are saving your model as an HDF5 file via `model.save()`. This file format is considered legacy. We recommend using instead the native Keras format, e.g. `model.save('my_model.keras')`.\n",
      "  saving_api.save_model(\n"
     ]
    },
    {
     "name": "stdout",
     "output_type": "stream",
     "text": [
      "2708/2708 [==============================] - ETA: 0s - loss: 1.4430e-04 - mae: 0.0085\n",
      "Epoch 2: val_mae improved from 0.00760 to 0.00632, saving model to gru-temperature-02-0.006.hdf5\n",
      "2708/2708 [==============================] - 27s 10ms/step - loss: 1.4430e-04 - mae: 0.0085 - val_loss: 8.8115e-05 - val_mae: 0.0063\n",
      "Epoch 3/40\n",
      "2706/2708 [============================>.] - ETA: 0s - loss: 1.2011e-04 - mae: 0.0077\n",
      "Epoch 3: val_mae improved from 0.00632 to 0.00616, saving model to gru-temperature-03-0.006.hdf5\n",
      "2708/2708 [==============================] - 26s 10ms/step - loss: 1.2011e-04 - mae: 0.0077 - val_loss: 8.3616e-05 - val_mae: 0.0062\n",
      "Epoch 4/40\n",
      "2708/2708 [==============================] - ETA: 0s - loss: 1.1422e-04 - mae: 0.0076\n",
      "Epoch 4: val_mae did not improve from 0.00616\n",
      "2708/2708 [==============================] - 25s 9ms/step - loss: 1.1422e-04 - mae: 0.0076 - val_loss: 1.0017e-04 - val_mae: 0.0077\n",
      "Epoch 5/40\n",
      "2706/2708 [============================>.] - ETA: 0s - loss: 1.1178e-04 - mae: 0.0075\n",
      "Epoch 5: val_mae did not improve from 0.00616\n",
      "2708/2708 [==============================] - 26s 10ms/step - loss: 1.1176e-04 - mae: 0.0075 - val_loss: 8.6534e-05 - val_mae: 0.0063\n",
      "Epoch 6/40\n",
      "2706/2708 [============================>.] - ETA: 0s - loss: 1.1059e-04 - mae: 0.0074\n",
      "Epoch 6: val_mae did not improve from 0.00616\n",
      "2708/2708 [==============================] - 26s 10ms/step - loss: 1.1060e-04 - mae: 0.0074 - val_loss: 8.3748e-05 - val_mae: 0.0062\n",
      "Epoch 6: early stopping\n"
     ]
    }
   ],
   "source": [
    "gru_model_history = gru_model.fit(X_train,y_train,batch_size=30,epochs=40,\n",
    "                                callbacks=callbacks_list,\n",
    "                                validation_data=(X_val,y_val))"
   ]
  },
  {
   "cell_type": "code",
   "execution_count": 51,
   "id": "6c9b025b-5b64-4a5e-8492-1ad7308aa1d5",
   "metadata": {
    "colab": {
     "base_uri": "https://localhost:8080/",
     "height": 472
    },
    "id": "6c9b025b-5b64-4a5e-8492-1ad7308aa1d5",
    "outputId": "858bfe61-d511-4b61-eae5-54978e8384c0"
   },
   "outputs": [
    {
     "data": {
      "image/png": "[encoded data removed]",
      "text/plain": [
       "<Figure size 640x480 with 1 Axes>"
      ]
     },
     "metadata": {},
     "output_type": "display_data"
    }
   ],
   "source": [
    "loss_function = gru_model_history.history['loss']\n",
    "val_loss_function = gru_model_history.history['val_loss']\n",
    "\n",
    "epochs=range(1,len(loss_function)+1)\n",
    "\n",
    "plt.title('Loss value (Train & Val Sets)')\n",
    "plt.plot(epochs,loss_function,color='green',label='Train Loss')\n",
    "plt.plot(epochs,val_loss_function,color='red',label='Val Loss')\n",
    "plt.xlabel('Epochs')\n",
    "plt.ylabel('Loss')\n",
    "plt.legend()\n",
    "plt.show()"
   ]
  },
  {
   "cell_type": "code",
   "execution_count": 52,
   "id": "f7126b57-75cc-4258-8196-0ae347076a05",
   "metadata": {
    "colab": {
     "base_uri": "https://localhost:8080/",
     "height": 472
    },
    "id": "f7126b57-75cc-4258-8196-0ae347076a05",
    "outputId": "119e93d2-1108-47d8-c409-3f46fb1c0085"
   },
   "outputs": [
    {
     "data": {
      "image/png": "[encoded data removed]",
      "text/plain": [
       "<Figure size 640x480 with 1 Axes>"
      ]
     },
     "metadata": {},
     "output_type": "display_data"
    }
   ],
   "source": [
    "mae_function = gru_model_history.history['mae']\n",
    "val_mae_function = gru_model_history.history['val_mae']\n",
    "\n",
    "epochs=range(1,len(loss_function)+1)\n",
    "\n",
    "plt.title('MAE value (Train & Val Sets)')\n",
    "plt.plot(epochs,mae_function,color='green',label='Train MAE')\n",
    "plt.plot(epochs,val_mae_function,color='red',label='Val MAE')\n",
    "plt.xlabel('Epochs')\n",
    "plt.ylabel('Mean Absolute Error')\n",
    "plt.legend()\n",
    "plt.show()"
   ]
  },
  {
   "cell_type": "code",
   "execution_count": 53,
   "id": "94080b6b-5d25-491a-9e95-d518927da941",
   "metadata": {
    "colab": {
     "base_uri": "https://localhost:8080/"
    },
    "id": "94080b6b-5d25-491a-9e95-d518927da941",
    "outputId": "35464990-6cb5-4809-d206-886e46e3951b"
   },
   "outputs": [
    {
     "name": "stdout",
     "output_type": "stream",
     "text": [
      "726/726 [==============================] - 3s 3ms/step\n",
      "MSE =  0.0  K degrees\n",
      "MAE =  0.007  K degrees\n",
      "R2-score =  0.999\n"
     ]
    }
   ],
   "source": [
    "y_pred = gru_model.predict(X_test)\n",
    "y_pred_inv = min_max_scaler.inverse_transform(y_pred)\n",
    "y_test_inv = min_max_scaler.inverse_transform(y_test.reshape(-1,1))\n",
    "print('MSE = ',round(mean_squared_error(y_true=y_test_inv,y_pred=y_pred_inv),3),' K degrees')\n",
    "print('MAE = ',round(mean_absolute_error(y_true=y_test_inv,y_pred=y_pred_inv),3),' K degrees')\n",
    "print('R2-score = ',round(r2_score(y_test_inv,y_pred_inv),3))"
   ]
  },
  {
   "cell_type": "code",
   "execution_count": 54,
   "id": "7f35624d",
   "metadata": {
    "colab": {
     "base_uri": "https://localhost:8080/",
     "height": 447
    },
    "id": "7f35624d",
    "outputId": "d6bb51f7-98e2-456b-91eb-e35b337eda64"
   },
   "outputs": [
    {
     "data": {
      "text/plain": [
       "[<matplotlib.lines.Line2D at 0x77fe5d194d90>]"
      ]
     },
     "execution_count": 54,
     "metadata": {},
     "output_type": "execute_result"
    },
    {
     "data": {
      "image/png": "[encoded data removed]",
      "text/plain": [
       "<Figure size 640x480 with 1 Axes>"
      ]
     },
     "metadata": {},
     "output_type": "display_data"
    }
   ],
   "source": [
    "plt.plot(range(1,len(y_test_inv)+1),y_test_inv)\n",
    "plt.plot(range(1,len(y_pred_inv)+1),y_pred_inv)"
   ]
  },
  {
   "cell_type": "markdown",
   "id": "EruFsSS9HUEM",
   "metadata": {
    "id": "EruFsSS9HUEM"
   },
   "source": [
    "#### Second Model"
   ]
  },
  {
   "cell_type": "markdown",
   "id": "y7ttmZwoHPv9",
   "metadata": {
    "id": "y7ttmZwoHPv9"
   },
   "source": [
    "Создадим вторую модель нейронной сети, состоящую из 2 слоёв:\n",
    "\n",
    "1. Слой GRU, 50 нейронов\n",
    "2. 1 нейрон, функция активации - Linear"
   ]
  },
  {
   "cell_type": "code",
   "execution_count": 99,
   "id": "SAXdxU2T0RNL",
   "metadata": {
    "colab": {
     "base_uri": "https://localhost:8080/"
    },
    "id": "SAXdxU2T0RNL",
    "outputId": "ef83992d-18e6-4cc8-e491-7667824b4c24"
   },
   "outputs": [
    {
     "name": "stdout",
     "output_type": "stream",
     "text": [
      "Model: \"sequential_8\"\n",
      "_________________________________________________________________\n",
      " Layer (type)                Output Shape              Param #   \n",
      "=================================================================\n",
      " gru_4 (GRU)                 (None, 50)                8850      \n",
      "                                                                 \n",
      " dense_8 (Dense)             (None, 1)                 51        \n",
      "                                                                 \n",
      "=================================================================\n",
      "Total params: 8901 (34.77 KB)\n",
      "Trainable params: 8901 (34.77 KB)\n",
      "Non-trainable params: 0 (0.00 Byte)\n",
      "_________________________________________________________________\n"
     ]
    }
   ],
   "source": [
    "gru_all_model = Sequential(\n",
    "    [\n",
    "        layers.GRU(50,input_shape=(window_all,7)),\n",
    "        layers.Dense(1, activation = 'linear')\n",
    "    ]\n",
    ")\n",
    "gru_all_model.summary()"
   ]
  },
  {
   "cell_type": "markdown",
   "id": "aLmjBHdHHeDb",
   "metadata": {
    "id": "aLmjBHdHHeDb"
   },
   "source": [
    "Изменим процедуру оптимизации на SGD:"
   ]
  },
  {
   "cell_type": "code",
   "execution_count": 100,
   "id": "u2dkXDwI0RNN",
   "metadata": {
    "id": "u2dkXDwI0RNN"
   },
   "outputs": [],
   "source": [
    "gru_all_model.compile(loss='mse',optimizer='SGD',metrics='mae')"
   ]
  },
  {
   "cell_type": "code",
   "execution_count": 101,
   "id": "qusVzcnc0RNO",
   "metadata": {
    "id": "qusVzcnc0RNO"
   },
   "outputs": [],
   "source": [
    "early_stop = EarlyStopping(monitor='val_mae',patience=3,mode='min',verbose=1)\n",
    "checkpoint = ModelCheckpoint('gru-temperature-{epoch:02d}-{val_mae:.3f}.hdf5',\n",
    "                              monitor='val_mae',verbose=1,mode='min',\n",
    "                              save_best_only=True)\n",
    "callbacks_list=[early_stop,checkpoint]"
   ]
  },
  {
   "cell_type": "markdown",
   "id": "KXZIyDuGHj52",
   "metadata": {
    "id": "KXZIyDuGHj52"
   },
   "source": [
    "Увеличим количество объектов в одном батче в 5 раз:"
   ]
  },
  {
   "cell_type": "code",
   "execution_count": 102,
   "id": "yzJIoXiV0RNO",
   "metadata": {
    "colab": {
     "base_uri": "https://localhost:8080/"
    },
    "id": "yzJIoXiV0RNO",
    "outputId": "f547ace4-2888-470d-c612-8e4aa6017470"
   },
   "outputs": [
    {
     "name": "stdout",
     "output_type": "stream",
     "text": [
      "Epoch 1/40\n",
      "3790/3791 [============================>.] - ETA: 0s - loss: 0.0975 - mae: 0.2633\n",
      "Epoch 1: val_mae improved from inf to 0.23557, saving model to gru-temperature-01-0.236.hdf5\n",
      "3791/3791 [==============================] - 86s 22ms/step - loss: 0.0975 - mae: 0.2633 - val_loss: 0.0796 - val_mae: 0.2356\n",
      "Epoch 2/40\n",
      "3789/3791 [============================>.] - ETA: 0s - loss: 0.0792 - mae: 0.2326\n",
      "Epoch 2: val_mae improved from 0.23557 to 0.22266, saving model to gru-temperature-02-0.223.hdf5\n",
      "3791/3791 [==============================] - 84s 22ms/step - loss: 0.0792 - mae: 0.2326 - val_loss: 0.0725 - val_mae: 0.2227\n",
      "Epoch 3/40\n",
      "3789/3791 [============================>.] - ETA: 0s - loss: 0.0760 - mae: 0.2261\n",
      "Epoch 3: val_mae improved from 0.22266 to 0.22149, saving model to gru-temperature-03-0.221.hdf5\n",
      "3791/3791 [==============================] - 100s 26ms/step - loss: 0.0760 - mae: 0.2261 - val_loss: 0.0715 - val_mae: 0.2215\n",
      "Epoch 4/40\n",
      "3790/3791 [============================>.] - ETA: 0s - loss: 0.0747 - mae: 0.2235\n",
      "Epoch 4: val_mae improved from 0.22149 to 0.21956, saving model to gru-temperature-04-0.220.hdf5\n",
      "3791/3791 [==============================] - 91s 24ms/step - loss: 0.0747 - mae: 0.2235 - val_loss: 0.0703 - val_mae: 0.2196\n",
      "Epoch 5/40\n",
      "3791/3791 [==============================] - ETA: 0s - loss: 0.0729 - mae: 0.2205\n",
      "Epoch 5: val_mae improved from 0.21956 to 0.21827, saving model to gru-temperature-05-0.218.hdf5\n",
      "3791/3791 [==============================] - 97s 25ms/step - loss: 0.0729 - mae: 0.2205 - val_loss: 0.0686 - val_mae: 0.2183\n",
      "Epoch 6/40\n",
      "3790/3791 [============================>.] - ETA: 0s - loss: 0.0697 - mae: 0.2152\n",
      "Epoch 6: val_mae improved from 0.21827 to 0.20561, saving model to gru-temperature-06-0.206.hdf5\n",
      "3791/3791 [==============================] - 96s 25ms/step - loss: 0.0697 - mae: 0.2152 - val_loss: 0.0627 - val_mae: 0.2056\n",
      "Epoch 7/40\n",
      "3790/3791 [============================>.] - ETA: 0s - loss: 0.0609 - mae: 0.1993\n",
      "Epoch 7: val_mae improved from 0.20561 to 0.16686, saving model to gru-temperature-07-0.167.hdf5\n",
      "3791/3791 [==============================] - 81s 21ms/step - loss: 0.0609 - mae: 0.1993 - val_loss: 0.0449 - val_mae: 0.1669\n",
      "Epoch 8/40\n",
      "3790/3791 [============================>.] - ETA: 0s - loss: 0.0401 - mae: 0.1434\n",
      "Epoch 8: val_mae improved from 0.16686 to 0.11918, saving model to gru-temperature-08-0.119.hdf5\n",
      "3791/3791 [==============================] - 81s 21ms/step - loss: 0.0401 - mae: 0.1434 - val_loss: 0.0316 - val_mae: 0.1192\n",
      "Epoch 9/40\n",
      "3791/3791 [==============================] - ETA: 0s - loss: 0.0343 - mae: 0.1250\n",
      "Epoch 9: val_mae improved from 0.11918 to 0.10986, saving model to gru-temperature-09-0.110.hdf5\n",
      "3791/3791 [==============================] - 85s 22ms/step - loss: 0.0343 - mae: 0.1250 - val_loss: 0.0286 - val_mae: 0.1099\n",
      "Epoch 10/40\n",
      "3789/3791 [============================>.] - ETA: 0s - loss: 0.0323 - mae: 0.1190\n",
      "Epoch 10: val_mae improved from 0.10986 to 0.10548, saving model to gru-temperature-10-0.105.hdf5\n",
      "3791/3791 [==============================] - 81s 21ms/step - loss: 0.0323 - mae: 0.1190 - val_loss: 0.0272 - val_mae: 0.1055\n",
      "Epoch 11/40\n",
      "3789/3791 [============================>.] - ETA: 0s - loss: 0.0312 - mae: 0.1151\n",
      "Epoch 11: val_mae improved from 0.10548 to 0.10234, saving model to gru-temperature-11-0.102.hdf5\n",
      "3791/3791 [==============================] - 81s 21ms/step - loss: 0.0312 - mae: 0.1151 - val_loss: 0.0266 - val_mae: 0.1023\n",
      "Epoch 12/40\n",
      "3789/3791 [============================>.] - ETA: 0s - loss: 0.0304 - mae: 0.1122\n",
      "Epoch 12: val_mae improved from 0.10234 to 0.10218, saving model to gru-temperature-12-0.102.hdf5\n",
      "3791/3791 [==============================] - 90s 24ms/step - loss: 0.0304 - mae: 0.1122 - val_loss: 0.0266 - val_mae: 0.1022\n",
      "Epoch 13/40\n",
      "3790/3791 [============================>.] - ETA: 0s - loss: 0.0296 - mae: 0.1098\n",
      "Epoch 13: val_mae improved from 0.10218 to 0.09931, saving model to gru-temperature-13-0.099.hdf5\n",
      "3791/3791 [==============================] - 99s 26ms/step - loss: 0.0296 - mae: 0.1098 - val_loss: 0.0254 - val_mae: 0.0993\n",
      "Epoch 14/40\n",
      "3791/3791 [==============================] - ETA: 0s - loss: 0.0288 - mae: 0.1078\n",
      "Epoch 14: val_mae did not improve from 0.09931\n",
      "3791/3791 [==============================] - 99s 26ms/step - loss: 0.0288 - mae: 0.1078 - val_loss: 0.0258 - val_mae: 0.1020\n",
      "Epoch 15/40\n",
      "3790/3791 [============================>.] - ETA: 0s - loss: 0.0281 - mae: 0.1059\n",
      "Epoch 15: val_mae did not improve from 0.09931\n",
      "3791/3791 [==============================] - 84s 22ms/step - loss: 0.0281 - mae: 0.1059 - val_loss: 0.0252 - val_mae: 0.1010\n",
      "Epoch 16/40\n",
      "3790/3791 [============================>.] - ETA: 0s - loss: 0.0274 - mae: 0.1043\n",
      "Epoch 16: val_mae improved from 0.09931 to 0.09424, saving model to gru-temperature-16-0.094.hdf5\n",
      "3791/3791 [==============================] - 80s 21ms/step - loss: 0.0274 - mae: 0.1043 - val_loss: 0.0238 - val_mae: 0.0942\n",
      "Epoch 17/40\n",
      "3790/3791 [============================>.] - ETA: 0s - loss: 0.0267 - mae: 0.1027\n",
      "Epoch 17: val_mae did not improve from 0.09424\n",
      "3791/3791 [==============================] - 88s 23ms/step - loss: 0.0267 - mae: 0.1027 - val_loss: 0.0246 - val_mae: 0.0981\n",
      "Epoch 18/40\n",
      "3789/3791 [============================>.] - ETA: 0s - loss: 0.0261 - mae: 0.1015\n",
      "Epoch 18: val_mae improved from 0.09424 to 0.09328, saving model to gru-temperature-18-0.093.hdf5\n",
      "3791/3791 [==============================] - 81s 21ms/step - loss: 0.0261 - mae: 0.1015 - val_loss: 0.0228 - val_mae: 0.0933\n",
      "Epoch 19/40\n",
      "3791/3791 [==============================] - ETA: 0s - loss: 0.0255 - mae: 0.1004\n",
      "Epoch 19: val_mae did not improve from 0.09328\n",
      "3791/3791 [==============================] - 80s 21ms/step - loss: 0.0255 - mae: 0.1004 - val_loss: 0.0265 - val_mae: 0.1105\n",
      "Epoch 20/40\n",
      "3791/3791 [==============================] - ETA: 0s - loss: 0.0251 - mae: 0.1000\n",
      "Epoch 20: val_mae improved from 0.09328 to 0.08874, saving model to gru-temperature-20-0.089.hdf5\n",
      "3791/3791 [==============================] - 82s 22ms/step - loss: 0.0251 - mae: 0.1000 - val_loss: 0.0216 - val_mae: 0.0887\n",
      "Epoch 21/40\n",
      "3789/3791 [============================>.] - ETA: 0s - loss: 0.0246 - mae: 0.0988\n",
      "Epoch 21: val_mae improved from 0.08874 to 0.08767, saving model to gru-temperature-21-0.088.hdf5\n",
      "3791/3791 [==============================] - 82s 22ms/step - loss: 0.0246 - mae: 0.0988 - val_loss: 0.0211 - val_mae: 0.0877\n",
      "Epoch 22/40\n",
      "3791/3791 [==============================] - ETA: 0s - loss: 0.0241 - mae: 0.0976\n",
      "Epoch 22: val_mae did not improve from 0.08767\n",
      "3791/3791 [==============================] - 81s 21ms/step - loss: 0.0241 - mae: 0.0976 - val_loss: 0.0271 - val_mae: 0.1165\n",
      "Epoch 23/40\n",
      "3791/3791 [==============================] - ETA: 0s - loss: 0.0236 - mae: 0.0963\n",
      "Epoch 23: val_mae did not improve from 0.08767\n",
      "3791/3791 [==============================] - 80s 21ms/step - loss: 0.0236 - mae: 0.0963 - val_loss: 0.0221 - val_mae: 0.0959\n",
      "Epoch 24/40\n",
      "3791/3791 [==============================] - ETA: 0s - loss: 0.0231 - mae: 0.0949\n",
      "Epoch 24: val_mae did not improve from 0.08767\n",
      "3791/3791 [==============================] - 81s 21ms/step - loss: 0.0231 - mae: 0.0949 - val_loss: 0.0207 - val_mae: 0.0892\n",
      "Epoch 24: early stopping\n"
     ]
    }
   ],
   "source": [
    "gru_all_model_history = gru_all_model.fit(X_train_all,y_train_all,batch_size=150,epochs=40,\n",
    "                                callbacks=callbacks_list,\n",
    "                                validation_data=(X_val_all,y_val_all))"
   ]
  },
  {
   "cell_type": "code",
   "execution_count": 103,
   "id": "JcivwTww0RNP",
   "metadata": {
    "colab": {
     "base_uri": "https://localhost:8080/",
     "height": 472
    },
    "id": "JcivwTww0RNP",
    "outputId": "dc0756c5-06f3-4353-c170-149f8d39027d"
   },
   "outputs": [
    {
     "data": {
      "image/png": "[encoded data removed]",
      "text/plain": [
       "<Figure size 640x480 with 1 Axes>"
      ]
     },
     "metadata": {},
     "output_type": "display_data"
    }
   ],
   "source": [
    "loss_function = gru_all_model_history.history['loss']\n",
    "val_loss_function = gru_all_model_history.history['val_loss']\n",
    "\n",
    "epochs=range(1,len(loss_function)+1)\n",
    "\n",
    "plt.title('Loss value (Train & Val Sets)')\n",
    "plt.plot(epochs,loss_function,color='green',label='Train Loss')\n",
    "plt.plot(epochs,val_loss_function,color='red',label='Val Loss')\n",
    "plt.xlabel('Epochs')\n",
    "plt.ylabel('Loss')\n",
    "plt.legend()\n",
    "plt.show()"
   ]
  },
  {
   "cell_type": "code",
   "execution_count": 104,
   "id": "ZGAEoffW0RNQ",
   "metadata": {
    "colab": {
     "base_uri": "https://localhost:8080/",
     "height": 472
    },
    "id": "ZGAEoffW0RNQ",
    "outputId": "b37733a9-1245-4286-c45c-7e7e326a5210"
   },
   "outputs": [
    {
     "data": {
      "image/png": "[encoded data removed]",
      "text/plain": [
       "<Figure size 640x480 with 1 Axes>"
      ]
     },
     "metadata": {},
     "output_type": "display_data"
    }
   ],
   "source": [
    "mae_function = gru_all_model_history.history['mae']\n",
    "val_mae_function = gru_all_model_history.history['val_mae']\n",
    "\n",
    "epochs=range(1,len(loss_function)+1)\n",
    "\n",
    "plt.title('MAE value (Train & Val Sets)')\n",
    "plt.plot(epochs,mae_function,color='green',label='Train MAE')\n",
    "plt.plot(epochs,val_mae_function,color='red',label='Val MAE')\n",
    "plt.xlabel('Epochs')\n",
    "plt.ylabel('Mean Absolute Error')\n",
    "plt.legend()\n",
    "plt.show()"
   ]
  },
  {
   "cell_type": "code",
   "execution_count": 105,
   "id": "BoaN7maS0RNR",
   "metadata": {
    "colab": {
     "base_uri": "https://localhost:8080/"
    },
    "id": "BoaN7maS0RNR",
    "outputId": "a0f1ba34-717f-4333-8d94-139d38219ec5"
   },
   "outputs": [
    {
     "name": "stdout",
     "output_type": "stream",
     "text": [
      "5077/5077 [==============================] - 21s 4ms/step\n",
      "MSE =  0.014  K degrees\n",
      "MAE =  0.078  K degrees\n",
      "R2-score =  0.887\n"
     ]
    }
   ],
   "source": [
    "min_max_scaler.fit(y_train_all.reshape(-1, 1))\n",
    "y_pred = gru_all_model.predict(X_test_all)\n",
    "y_pred_inv = min_max_scaler.inverse_transform(y_pred)\n",
    "y_test_inv = min_max_scaler.inverse_transform(y_test_all.reshape(-1,1))\n",
    "print('MSE = ',round(mean_squared_error(y_true=y_test_inv,y_pred=y_pred_inv),3),' K degrees')\n",
    "print('MAE = ',round(mean_absolute_error(y_true=y_test_inv,y_pred=y_pred_inv),3),' K degrees')\n",
    "print('R2-score = ',round(r2_score(y_test_inv,y_pred_inv),3))"
   ]
  },
  {
   "cell_type": "code",
   "execution_count": 107,
   "id": "6i9-XJ-y0RNR",
   "metadata": {
    "colab": {
     "base_uri": "https://localhost:8080/"
    },
    "id": "6i9-XJ-y0RNR",
    "outputId": "697565b7-a5f6-4e68-e42a-b674eb8391fc"
   },
   "outputs": [
    {
     "name": "stdout",
     "output_type": "stream",
     "text": [
      "1/1 [==============================] - 0s 38ms/step\n",
      "Предсказанная температура: 0.35199025\n",
      "Реальная температура: 0.32188841201716656\n"
     ]
    }
   ],
   "source": [
    "x = X_test_all[2]\n",
    "x = x.reshape((1,) + x.shape)\n",
    "y_pred = gru_all_model.predict(x)\n",
    "y_pred_inv = min_max_scaler.inverse_transform(y_pred)\n",
    "truth = y_test_all[2]\n",
    "truth_inv = min_max_scaler.inverse_transform(truth.reshape(-1, 1))\n",
    "print('Предсказанная температура:', y_pred_inv[0, 0])\n",
    "print('Реальная температура:', truth_inv[0, 0])"
   ]
  },
  {
   "cell_type": "markdown",
   "id": "Y-F9JKTf43RH",
   "metadata": {
    "id": "Y-F9JKTf43RH"
   },
   "source": [
    "## Задание №3. Стек двух слоёв с GRU"
   ]
  },
  {
   "cell_type": "markdown",
   "id": "dc47b1d0",
   "metadata": {},
   "source": [
    "### Создание моделей. Base Model"
   ]
  },
  {
   "cell_type": "markdown",
   "id": "uU_HtsUM54QV",
   "metadata": {
    "id": "uU_HtsUM54QV"
   },
   "source": [
    "Создадим базовую модель нейронной сети, состоящую из 3 слоёв:\n",
    "\n",
    "1. Слой GRU, 10 нейронов, функция активации - Relu\n",
    "2. Слой GRU, 10 нейронов, функция активации - Relu\n",
    "3. 1 нейрон, функция активации - Linear"
   ]
  },
  {
   "cell_type": "code",
   "execution_count": 109,
   "id": "8EHfmO7kBgwb",
   "metadata": {
    "colab": {
     "base_uri": "https://localhost:8080/"
    },
    "id": "8EHfmO7kBgwb",
    "outputId": "63144d9e-8bb6-4390-9ac5-7978367e6fa4"
   },
   "outputs": [
    {
     "name": "stdout",
     "output_type": "stream",
     "text": [
      "Model: \"sequential_9\"\n",
      "_________________________________________________________________\n",
      " Layer (type)                Output Shape              Param #   \n",
      "=================================================================\n",
      " gru_5 (GRU)                 (None, 15, 10)            390       \n",
      "                                                                 \n",
      " gru_6 (GRU)                 (None, 10)                660       \n",
      "                                                                 \n",
      " dense_9 (Dense)             (None, 1)                 11        \n",
      "                                                                 \n",
      "=================================================================\n",
      "Total params: 1061 (4.14 KB)\n",
      "Trainable params: 1061 (4.14 KB)\n",
      "Non-trainable params: 0 (0.00 Byte)\n",
      "_________________________________________________________________\n"
     ]
    }
   ],
   "source": [
    "grugru_model = Sequential(\n",
    "    [\n",
    "        layers.GRU(10, activation='relu', input_shape=(window,1), return_sequences=True),\n",
    "        layers.GRU(10, activation='relu'),\n",
    "        layers.Dense(1, activation = 'linear')\n",
    "    ]\n",
    ")\n",
    "grugru_model.summary()"
   ]
  },
  {
   "cell_type": "code",
   "execution_count": 111,
   "id": "CaBE2C1VCNFk",
   "metadata": {
    "id": "CaBE2C1VCNFk"
   },
   "outputs": [],
   "source": [
    "grugru_model.compile(optimizer='adam',loss='mse',metrics='mae')"
   ]
  },
  {
   "cell_type": "code",
   "execution_count": 112,
   "id": "q32IBmvbCNFr",
   "metadata": {
    "id": "q32IBmvbCNFr"
   },
   "outputs": [],
   "source": [
    "early_stop = EarlyStopping(monitor='val_mae',patience=3,mode='min',verbose=1)\n",
    "checkpoint = ModelCheckpoint('grugru-temperature-{epoch:02d}-{val_mae:.3f}.hdf5',\n",
    "                              monitor='val_mae',verbose=1,mode='min',\n",
    "                              save_best_only=True)\n",
    "callbacks_list=[early_stop,checkpoint]"
   ]
  },
  {
   "cell_type": "markdown",
   "id": "TuZrnIvu6afA",
   "metadata": {
    "id": "TuZrnIvu6afA"
   },
   "source": [
    "Зададим количество объектов в одном батче, равное 30, и число эпох, равное 40:"
   ]
  },
  {
   "cell_type": "code",
   "execution_count": 113,
   "id": "LSTyjXFXCNFr",
   "metadata": {
    "colab": {
     "base_uri": "https://localhost:8080/"
    },
    "id": "LSTyjXFXCNFr",
    "outputId": "560b519b-fe41-40bd-ccf1-c9a8f42826d7"
   },
   "outputs": [
    {
     "name": "stdout",
     "output_type": "stream",
     "text": [
      "Epoch 1/40\n",
      "2705/2708 [============================>.] - ETA: 0s - loss: 0.0042 - mae: 0.0190\n",
      "Epoch 1: val_mae improved from inf to 0.00671, saving model to grugru-temperature-01-0.007.hdf5\n",
      "2708/2708 [==============================] - 48s 17ms/step - loss: 0.0042 - mae: 0.0190 - val_loss: 9.1987e-05 - val_mae: 0.0067\n",
      "Epoch 2/40\n",
      "   7/2708 [..............................] - ETA: 52s - loss: 1.2954e-04 - mae: 0.0085"
     ]
    },
    {
     "name": "stderr",
     "output_type": "stream",
     "text": [
      "/usr/local/lib/python3.10/dist-packages/keras/src/engine/training.py:3103: UserWarning: You are saving your model as an HDF5 file via `model.save()`. This file format is considered legacy. We recommend using instead the native Keras format, e.g. `model.save('my_model.keras')`.\n",
      "  saving_api.save_model(\n"
     ]
    },
    {
     "name": "stdout",
     "output_type": "stream",
     "text": [
      "2707/2708 [============================>.] - ETA: 0s - loss: 1.2376e-04 - mae: 0.0080\n",
      "Epoch 2: val_mae improved from 0.00671 to 0.00635, saving model to grugru-temperature-02-0.006.hdf5\n",
      "2708/2708 [==============================] - 43s 16ms/step - loss: 1.2375e-04 - mae: 0.0080 - val_loss: 8.4619e-05 - val_mae: 0.0064\n",
      "Epoch 3/40\n",
      "2706/2708 [============================>.] - ETA: 0s - loss: 1.1812e-04 - mae: 0.0078\n",
      "Epoch 3: val_mae did not improve from 0.00635\n",
      "2708/2708 [==============================] - 44s 16ms/step - loss: 1.1810e-04 - mae: 0.0078 - val_loss: 8.7303e-05 - val_mae: 0.0066\n",
      "Epoch 4/40\n",
      "2706/2708 [============================>.] - ETA: 0s - loss: 1.1737e-04 - mae: 0.0078\n",
      "Epoch 4: val_mae improved from 0.00635 to 0.00617, saving model to grugru-temperature-04-0.006.hdf5\n",
      "2708/2708 [==============================] - 43s 16ms/step - loss: 1.1738e-04 - mae: 0.0078 - val_loss: 8.3812e-05 - val_mae: 0.0062\n",
      "Epoch 5/40\n",
      "2707/2708 [============================>.] - ETA: 0s - loss: 1.1699e-04 - mae: 0.0078\n",
      "Epoch 5: val_mae did not improve from 0.00617\n",
      "2708/2708 [==============================] - 42s 16ms/step - loss: 1.1703e-04 - mae: 0.0078 - val_loss: 8.6173e-05 - val_mae: 0.0064\n",
      "Epoch 6/40\n",
      "2707/2708 [============================>.] - ETA: 0s - loss: 1.1642e-04 - mae: 0.0077\n",
      "Epoch 6: val_mae did not improve from 0.00617\n",
      "2708/2708 [==============================] - 42s 16ms/step - loss: 1.1645e-04 - mae: 0.0077 - val_loss: 1.1806e-04 - val_mae: 0.0084\n",
      "Epoch 7/40\n",
      "2705/2708 [============================>.] - ETA: 0s - loss: 1.1742e-04 - mae: 0.0078\n",
      "Epoch 7: val_mae did not improve from 0.00617\n",
      "2708/2708 [==============================] - 44s 16ms/step - loss: 1.1738e-04 - mae: 0.0078 - val_loss: 8.5961e-05 - val_mae: 0.0063\n",
      "Epoch 7: early stopping\n"
     ]
    }
   ],
   "source": [
    "grugru_model_history = grugru_model.fit(X_train,y_train,batch_size=30,epochs=40,\n",
    "                                callbacks=callbacks_list,\n",
    "                                validation_data=(X_val,y_val))"
   ]
  },
  {
   "cell_type": "code",
   "execution_count": 114,
   "id": "Uzd4BWBrCNFr",
   "metadata": {
    "colab": {
     "base_uri": "https://localhost:8080/",
     "height": 472
    },
    "id": "Uzd4BWBrCNFr",
    "outputId": "4835cc46-4685-4953-f45d-bf2cb061a122"
   },
   "outputs": [
    {
     "data": {
      "image/png": "[encoded data removed]",
      "text/plain": [
       "<Figure size 640x480 with 1 Axes>"
      ]
     },
     "metadata": {},
     "output_type": "display_data"
    }
   ],
   "source": [
    "loss_function = grugru_model_history.history['loss']\n",
    "val_loss_function = grugru_model_history.history['val_loss']\n",
    "\n",
    "epochs=range(1,len(loss_function)+1)\n",
    "\n",
    "plt.title('Loss value (Train & Val Sets)')\n",
    "plt.plot(epochs,loss_function,color='green',label='Train Loss')\n",
    "plt.plot(epochs,val_loss_function,color='red',label='Val Loss')\n",
    "plt.xlabel('Epochs')\n",
    "plt.ylabel('Loss')\n",
    "plt.legend()\n",
    "plt.show()"
   ]
  },
  {
   "cell_type": "code",
   "execution_count": 115,
   "id": "-T7r6ouQCNFs",
   "metadata": {
    "colab": {
     "base_uri": "https://localhost:8080/",
     "height": 472
    },
    "id": "-T7r6ouQCNFs",
    "outputId": "a051737b-0171-4925-f424-9ed3b6b23703"
   },
   "outputs": [
    {
     "data": {
      "image/png": "[encoded data removed]",
      "text/plain": [
       "<Figure size 640x480 with 1 Axes>"
      ]
     },
     "metadata": {},
     "output_type": "display_data"
    }
   ],
   "source": [
    "mae_function = grugru_model_history.history['mae']\n",
    "val_mae_function = grugru_model_history.history['val_mae']\n",
    "\n",
    "epochs=range(1,len(loss_function)+1)\n",
    "\n",
    "plt.title('MAE value (Train & Val Sets)')\n",
    "plt.plot(epochs,mae_function,color='green',label='Train MAE')\n",
    "plt.plot(epochs,val_mae_function,color='red',label='Val MAE')\n",
    "plt.xlabel('Epochs')\n",
    "plt.ylabel('Mean Absolute Error')\n",
    "plt.legend()\n",
    "plt.show()"
   ]
  },
  {
   "cell_type": "code",
   "execution_count": 116,
   "id": "jKsoxeVvCNFs",
   "metadata": {
    "colab": {
     "base_uri": "https://localhost:8080/"
    },
    "id": "jKsoxeVvCNFs",
    "outputId": "b216f3d7-2594-4b1e-f0aa-2ee384c8a746"
   },
   "outputs": [
    {
     "name": "stdout",
     "output_type": "stream",
     "text": [
      "726/726 [==============================] - 3s 4ms/step\n",
      "MSE =  0.0  K degrees\n",
      "MAE =  0.007  K degrees\n",
      "R2-score =  0.999\n"
     ]
    }
   ],
   "source": [
    "y_pred = grugru_model.predict(X_test)\n",
    "y_pred_inv = min_max_scaler.inverse_transform(y_pred)\n",
    "y_test_inv = min_max_scaler.inverse_transform(y_test.reshape(-1,1))\n",
    "print('MSE = ',round(mean_squared_error(y_true=y_test_inv,y_pred=y_pred_inv),3),' K degrees')\n",
    "print('MAE = ',round(mean_absolute_error(y_true=y_test_inv,y_pred=y_pred_inv),3),' K degrees')\n",
    "print('R2-score = ',round(r2_score(y_test_inv,y_pred_inv),3))"
   ]
  },
  {
   "cell_type": "code",
   "execution_count": 117,
   "id": "FAC-Y5OtCNFs",
   "metadata": {
    "colab": {
     "base_uri": "https://localhost:8080/",
     "height": 447
    },
    "id": "FAC-Y5OtCNFs",
    "outputId": "bc0631c5-60ab-4a9e-990a-2be3a3ed0c29"
   },
   "outputs": [
    {
     "data": {
      "text/plain": [
       "[<matplotlib.lines.Line2D at 0x77fe9aa57e80>]"
      ]
     },
     "execution_count": 117,
     "metadata": {},
     "output_type": "execute_result"
    },
    {
     "data": {
      "image/png": "[encoded data removed]",
      "text/plain": [
       "<Figure size 640x480 with 1 Axes>"
      ]
     },
     "metadata": {},
     "output_type": "display_data"
    }
   ],
   "source": [
    "plt.plot(range(1,len(y_test_inv)+1),y_test_inv)\n",
    "plt.plot(range(1,len(y_pred_inv)+1),y_pred_inv)"
   ]
  },
  {
   "cell_type": "markdown",
   "id": "NsWn7TY-6ghi",
   "metadata": {
    "id": "NsWn7TY-6ghi"
   },
   "source": [
    "### Second Model"
   ]
  },
  {
   "cell_type": "markdown",
   "id": "d6MV6q436gaG",
   "metadata": {
    "id": "d6MV6q436gaG"
   },
   "source": [
    "Создадим вторую модель нейронной сети, состоящую из 2 слоёв:\n",
    "\n",
    "1. Слой GRU, 30 нейронов, функция активации - Relu\n",
    "2. Dropout(0.1)\n",
    "3. Слой GRU, 20 нейронов, функция активации - Relu\n",
    "4. 1 нейрон, функция активации - Linear"
   ]
  },
  {
   "cell_type": "code",
   "execution_count": 129,
   "id": "BqkEjKOoEF5N",
   "metadata": {
    "colab": {
     "base_uri": "https://localhost:8080/"
    },
    "id": "BqkEjKOoEF5N",
    "outputId": "92a0fbb2-1b86-42da-ede6-6eb0fff89a32"
   },
   "outputs": [
    {
     "name": "stdout",
     "output_type": "stream",
     "text": [
      "Model: \"sequential_12\"\n",
      "_________________________________________________________________\n",
      " Layer (type)                Output Shape              Param #   \n",
      "=================================================================\n",
      " gru_11 (GRU)                (None, 20, 30)            3510      \n",
      "                                                                 \n",
      " dropout_2 (Dropout)         (None, 20, 30)            0         \n",
      "                                                                 \n",
      " gru_12 (GRU)                (None, 20)                3120      \n",
      "                                                                 \n",
      " dense_12 (Dense)            (None, 1)                 21        \n",
      "                                                                 \n",
      "=================================================================\n",
      "Total params: 6651 (25.98 KB)\n",
      "Trainable params: 6651 (25.98 KB)\n",
      "Non-trainable params: 0 (0.00 Byte)\n",
      "_________________________________________________________________\n"
     ]
    }
   ],
   "source": [
    "grugru_all_model = Sequential(\n",
    "    [\n",
    "        layers.GRU(30, activation='relu', input_shape=(window_all,7), return_sequences=True),\n",
    "        layers.Dropout(0.1),\n",
    "        layers.GRU(20, activation='relu'),\n",
    "        layers.Dense(1, activation = 'linear')\n",
    "    ]\n",
    ")\n",
    "grugru_all_model.summary()"
   ]
  },
  {
   "cell_type": "markdown",
   "id": "nPn9h5o17BXa",
   "metadata": {
    "id": "nPn9h5o17BXa"
   },
   "source": [
    "Изменим процедуру оптимизации на SGD:"
   ]
  },
  {
   "cell_type": "code",
   "execution_count": 130,
   "id": "h1LPXYhSEF5V",
   "metadata": {
    "id": "h1LPXYhSEF5V"
   },
   "outputs": [],
   "source": [
    "grugru_all_model.compile(loss='mse',optimizer='SGD',metrics='mae')"
   ]
  },
  {
   "cell_type": "code",
   "execution_count": 131,
   "id": "Ty8MJGtVEF5V",
   "metadata": {
    "id": "Ty8MJGtVEF5V"
   },
   "outputs": [],
   "source": [
    "early_stop = EarlyStopping(monitor='val_mae',patience=3,mode='min',verbose=1)\n",
    "checkpoint = ModelCheckpoint('gru-temperature-{epoch:02d}-{val_mae:.3f}.hdf5',\n",
    "                              monitor='val_mae',verbose=1,mode='min',\n",
    "                              save_best_only=True)\n",
    "callbacks_list=[early_stop,checkpoint]"
   ]
  },
  {
   "cell_type": "markdown",
   "id": "OyjUvVbX7C1r",
   "metadata": {
    "id": "OyjUvVbX7C1r"
   },
   "source": [
    "Увеличим количество объектов в одном батче до 400:"
   ]
  },
  {
   "cell_type": "code",
   "execution_count": 132,
   "id": "2GyKp9U6EF5V",
   "metadata": {
    "colab": {
     "base_uri": "https://localhost:8080/"
    },
    "id": "2GyKp9U6EF5V",
    "outputId": "da0af2b9-d5e6-4cba-80fa-da47239486c2"
   },
   "outputs": [
    {
     "name": "stdout",
     "output_type": "stream",
     "text": [
      "Epoch 1/40\n",
      "1421/1422 [============================>.] - ETA: 0s - loss: 0.1158 - mae: 0.2914\n",
      "Epoch 1: val_mae improved from inf to 0.26106, saving model to gru-temperature-01-0.261.hdf5\n",
      "1422/1422 [==============================] - 72s 49ms/step - loss: 0.1158 - mae: 0.2914 - val_loss: 0.0961 - val_mae: 0.2611\n",
      "Epoch 2/40\n",
      "1422/1422 [==============================] - ETA: 0s - loss: 0.0963 - mae: 0.2601\n",
      "Epoch 2: val_mae improved from 0.26106 to 0.24470, saving model to gru-temperature-02-0.245.hdf5\n",
      "1422/1422 [==============================] - 76s 53ms/step - loss: 0.0963 - mae: 0.2601 - val_loss: 0.0847 - val_mae: 0.2447\n",
      "Epoch 3/40\n",
      "1422/1422 [==============================] - ETA: 0s - loss: 0.0883 - mae: 0.2465\n",
      "Epoch 3: val_mae improved from 0.24470 to 0.23537, saving model to gru-temperature-03-0.235.hdf5\n",
      "1422/1422 [==============================] - 87s 61ms/step - loss: 0.0883 - mae: 0.2465 - val_loss: 0.0775 - val_mae: 0.2354\n",
      "Epoch 4/40\n",
      "1421/1422 [============================>.] - ETA: 0s - loss: 0.0832 - mae: 0.2381\n",
      "Epoch 4: val_mae improved from 0.23537 to 0.22201, saving model to gru-temperature-04-0.222.hdf5\n",
      "1422/1422 [==============================] - 79s 56ms/step - loss: 0.0832 - mae: 0.2381 - val_loss: 0.0709 - val_mae: 0.2220\n",
      "Epoch 5/40\n",
      "1422/1422 [==============================] - ETA: 0s - loss: 0.0796 - mae: 0.2316\n",
      "Epoch 5: val_mae improved from 0.22201 to 0.21576, saving model to gru-temperature-05-0.216.hdf5\n",
      "1422/1422 [==============================] - 67s 47ms/step - loss: 0.0796 - mae: 0.2316 - val_loss: 0.0673 - val_mae: 0.2158\n",
      "Epoch 6/40\n",
      "1422/1422 [==============================] - ETA: 0s - loss: 0.0768 - mae: 0.2264\n",
      "Epoch 6: val_mae improved from 0.21576 to 0.20646, saving model to gru-temperature-06-0.206.hdf5\n",
      "1422/1422 [==============================] - 68s 48ms/step - loss: 0.0768 - mae: 0.2264 - val_loss: 0.0637 - val_mae: 0.2065\n",
      "Epoch 7/40\n",
      "1421/1422 [============================>.] - ETA: 0s - loss: 0.0744 - mae: 0.2217\n",
      "Epoch 7: val_mae did not improve from 0.20646\n",
      "1422/1422 [==============================] - 70s 49ms/step - loss: 0.0744 - mae: 0.2217 - val_loss: 0.0624 - val_mae: 0.2072\n",
      "Epoch 8/40\n",
      "1422/1422 [==============================] - ETA: 0s - loss: 0.0723 - mae: 0.2175\n",
      "Epoch 8: val_mae improved from 0.20646 to 0.19885, saving model to gru-temperature-08-0.199.hdf5\n",
      "1422/1422 [==============================] - 70s 49ms/step - loss: 0.0723 - mae: 0.2175 - val_loss: 0.0596 - val_mae: 0.1989\n",
      "Epoch 9/40\n",
      "1422/1422 [==============================] - ETA: 0s - loss: 0.0704 - mae: 0.2137\n",
      "Epoch 9: val_mae improved from 0.19885 to 0.19175, saving model to gru-temperature-09-0.192.hdf5\n",
      "1422/1422 [==============================] - 86s 61ms/step - loss: 0.0704 - mae: 0.2137 - val_loss: 0.0573 - val_mae: 0.1917\n",
      "Epoch 10/40\n",
      "1421/1422 [============================>.] - ETA: 0s - loss: 0.0686 - mae: 0.2102\n",
      "Epoch 10: val_mae improved from 0.19175 to 0.18365, saving model to gru-temperature-10-0.184.hdf5\n",
      "1422/1422 [==============================] - 79s 56ms/step - loss: 0.0686 - mae: 0.2102 - val_loss: 0.0551 - val_mae: 0.1837\n",
      "Epoch 11/40\n",
      "1422/1422 [==============================] - ETA: 0s - loss: 0.0667 - mae: 0.2064\n",
      "Epoch 11: val_mae improved from 0.18365 to 0.17633, saving model to gru-temperature-11-0.176.hdf5\n",
      "1422/1422 [==============================] - 69s 48ms/step - loss: 0.0667 - mae: 0.2064 - val_loss: 0.0527 - val_mae: 0.1763\n",
      "Epoch 12/40\n",
      "1422/1422 [==============================] - ETA: 0s - loss: 0.0650 - mae: 0.2031\n",
      "Epoch 12: val_mae did not improve from 0.17633\n",
      "1422/1422 [==============================] - 68s 48ms/step - loss: 0.0650 - mae: 0.2031 - val_loss: 0.0519 - val_mae: 0.1779\n",
      "Epoch 13/40\n",
      "1421/1422 [============================>.] - ETA: 0s - loss: 0.0634 - mae: 0.2002\n",
      "Epoch 13: val_mae improved from 0.17633 to 0.17539, saving model to gru-temperature-13-0.175.hdf5\n",
      "1422/1422 [==============================] - 71s 50ms/step - loss: 0.0634 - mae: 0.2002 - val_loss: 0.0505 - val_mae: 0.1754\n",
      "Epoch 14/40\n",
      "1422/1422 [==============================] - ETA: 0s - loss: 0.0619 - mae: 0.1972\n",
      "Epoch 14: val_mae improved from 0.17539 to 0.16783, saving model to gru-temperature-14-0.168.hdf5\n",
      "1422/1422 [==============================] - 66s 47ms/step - loss: 0.0619 - mae: 0.1972 - val_loss: 0.0482 - val_mae: 0.1678\n",
      "Epoch 15/40\n",
      "1422/1422 [==============================] - ETA: 0s - loss: 0.0604 - mae: 0.1942\n",
      "Epoch 15: val_mae improved from 0.16783 to 0.16588, saving model to gru-temperature-15-0.166.hdf5\n",
      "1422/1422 [==============================] - 70s 49ms/step - loss: 0.0604 - mae: 0.1942 - val_loss: 0.0469 - val_mae: 0.1659\n",
      "Epoch 16/40\n",
      "1422/1422 [==============================] - ETA: 0s - loss: 0.0588 - mae: 0.1910\n",
      "Epoch 16: val_mae improved from 0.16588 to 0.16204, saving model to gru-temperature-16-0.162.hdf5\n",
      "1422/1422 [==============================] - 69s 48ms/step - loss: 0.0588 - mae: 0.1910 - val_loss: 0.0450 - val_mae: 0.1620\n",
      "Epoch 17/40\n",
      "1422/1422 [==============================] - ETA: 0s - loss: 0.0570 - mae: 0.1872\n",
      "Epoch 17: val_mae improved from 0.16204 to 0.15772, saving model to gru-temperature-17-0.158.hdf5\n",
      "1422/1422 [==============================] - 67s 47ms/step - loss: 0.0570 - mae: 0.1872 - val_loss: 0.0433 - val_mae: 0.1577\n",
      "Epoch 18/40\n",
      "1422/1422 [==============================] - ETA: 0s - loss: 0.0553 - mae: 0.1837\n",
      "Epoch 18: val_mae improved from 0.15772 to 0.15237, saving model to gru-temperature-18-0.152.hdf5\n",
      "1422/1422 [==============================] - 69s 49ms/step - loss: 0.0553 - mae: 0.1837 - val_loss: 0.0414 - val_mae: 0.1524\n",
      "Epoch 19/40\n",
      "1422/1422 [==============================] - ETA: 0s - loss: 0.0538 - mae: 0.1807\n",
      "Epoch 19: val_mae did not improve from 0.15237\n",
      "1422/1422 [==============================] - 69s 48ms/step - loss: 0.0538 - mae: 0.1807 - val_loss: 0.0418 - val_mae: 0.1570\n",
      "Epoch 20/40\n",
      "1422/1422 [==============================] - ETA: 0s - loss: 0.0527 - mae: 0.1787\n",
      "Epoch 20: val_mae did not improve from 0.15237\n",
      "1422/1422 [==============================] - 69s 48ms/step - loss: 0.0527 - mae: 0.1787 - val_loss: 0.0402 - val_mae: 0.1530\n",
      "Epoch 21/40\n",
      "1422/1422 [==============================] - ETA: 0s - loss: 0.0516 - mae: 0.1766\n",
      "Epoch 21: val_mae improved from 0.15237 to 0.14801, saving model to gru-temperature-21-0.148.hdf5\n",
      "1422/1422 [==============================] - 69s 48ms/step - loss: 0.0516 - mae: 0.1766 - val_loss: 0.0387 - val_mae: 0.1480\n",
      "Epoch 22/40\n",
      "1421/1422 [============================>.] - ETA: 0s - loss: 0.0507 - mae: 0.1749\n",
      "Epoch 22: val_mae did not improve from 0.14801\n",
      "1422/1422 [==============================] - 69s 49ms/step - loss: 0.0507 - mae: 0.1749 - val_loss: 0.0384 - val_mae: 0.1481\n",
      "Epoch 23/40\n",
      "1422/1422 [==============================] - ETA: 0s - loss: 0.0500 - mae: 0.1733\n",
      "Epoch 23: val_mae did not improve from 0.14801\n",
      "1422/1422 [==============================] - 69s 49ms/step - loss: 0.0500 - mae: 0.1733 - val_loss: 0.0445 - val_mae: 0.1648\n",
      "Epoch 24/40\n",
      "1422/1422 [==============================] - ETA: 0s - loss: 0.0490 - mae: 0.1714\n",
      "Epoch 24: val_mae did not improve from 0.14801\n",
      "1422/1422 [==============================] - 67s 47ms/step - loss: 0.0490 - mae: 0.1714 - val_loss: 0.0390 - val_mae: 0.1509\n",
      "Epoch 24: early stopping\n"
     ]
    }
   ],
   "source": [
    "grugru_all_model_history = grugru_all_model.fit(X_train_all,y_train_all,batch_size=400,epochs=40,\n",
    "                                callbacks=callbacks_list,\n",
    "                                validation_data=(X_val_all,y_val_all))"
   ]
  },
  {
   "cell_type": "code",
   "execution_count": 133,
   "id": "DaMIcR4sEF5V",
   "metadata": {
    "colab": {
     "base_uri": "https://localhost:8080/",
     "height": 472
    },
    "id": "DaMIcR4sEF5V",
    "outputId": "b72f9040-c6f1-4403-f061-3182dd2207f6"
   },
   "outputs": [
    {
     "data": {
      "image/png": "[encoded data removed]",
      "text/plain": [
       "<Figure size 640x480 with 1 Axes>"
      ]
     },
     "metadata": {},
     "output_type": "display_data"
    }
   ],
   "source": [
    "loss_function = grugru_all_model_history.history['loss']\n",
    "val_loss_function = grugru_all_model_history.history['val_loss']\n",
    "\n",
    "epochs=range(1,len(loss_function)+1)\n",
    "\n",
    "plt.title('Loss value (Train & Val Sets)')\n",
    "plt.plot(epochs,loss_function,color='green',label='Train Loss')\n",
    "plt.plot(epochs,val_loss_function,color='red',label='Val Loss')\n",
    "plt.xlabel('Epochs')\n",
    "plt.ylabel('Loss')\n",
    "plt.legend()\n",
    "plt.show()"
   ]
  },
  {
   "cell_type": "code",
   "execution_count": 134,
   "id": "pMoUUrT9EF5V",
   "metadata": {
    "colab": {
     "base_uri": "https://localhost:8080/",
     "height": 472
    },
    "id": "pMoUUrT9EF5V",
    "outputId": "c4b86fa0-0047-4142-f4f3-059165326ff2"
   },
   "outputs": [
    {
     "data": {
      "image/png": "[encoded data removed]",
      "text/plain": [
       "<Figure size 640x480 with 1 Axes>"
      ]
     },
     "metadata": {},
     "output_type": "display_data"
    }
   ],
   "source": [
    "mae_function = grugru_all_model_history.history['mae']\n",
    "val_mae_function = grugru_all_model_history.history['val_mae']\n",
    "\n",
    "epochs=range(1,len(loss_function)+1)\n",
    "\n",
    "plt.title('MAE value (Train & Val Sets)')\n",
    "plt.plot(epochs,mae_function,color='green',label='Train MAE')\n",
    "plt.plot(epochs,val_mae_function,color='red',label='Val MAE')\n",
    "plt.xlabel('Epochs')\n",
    "plt.ylabel('Mean Absolute Error')\n",
    "plt.legend()\n",
    "plt.show()"
   ]
  },
  {
   "cell_type": "code",
   "execution_count": 135,
   "id": "tMw0fnpbEF5W",
   "metadata": {
    "colab": {
     "base_uri": "https://localhost:8080/"
    },
    "id": "tMw0fnpbEF5W",
    "outputId": "a7c15c67-b63f-45c2-fb21-cc1b6c4f4715"
   },
   "outputs": [
    {
     "name": "stdout",
     "output_type": "stream",
     "text": [
      "5077/5077 [==============================] - 35s 7ms/step\n",
      "MSE =  0.037  K degrees\n",
      "MAE =  0.153  K degrees\n",
      "R2-score =  0.712\n"
     ]
    }
   ],
   "source": [
    "min_max_scaler.fit(y_train_all.reshape(-1, 1))\n",
    "y_pred = grugru_all_model.predict(X_test_all)\n",
    "y_pred_inv = min_max_scaler.inverse_transform(y_pred)\n",
    "y_test_inv = min_max_scaler.inverse_transform(y_test_all.reshape(-1,1))\n",
    "print('MSE = ',round(mean_squared_error(y_true=y_test_inv,y_pred=y_pred_inv),3),' K degrees')\n",
    "print('MAE = ',round(mean_absolute_error(y_true=y_test_inv,y_pred=y_pred_inv),3),' K degrees')\n",
    "print('R2-score = ',round(r2_score(y_test_inv,y_pred_inv),3))"
   ]
  },
  {
   "cell_type": "code",
   "execution_count": 136,
   "id": "XYA66YOKEF5W",
   "metadata": {
    "colab": {
     "base_uri": "https://localhost:8080/"
    },
    "id": "XYA66YOKEF5W",
    "outputId": "646d0ada-bd7a-471e-81a2-7c8b10006e4b"
   },
   "outputs": [
    {
     "name": "stdout",
     "output_type": "stream",
     "text": [
      "1/1 [==============================] - 0s 28ms/step\n",
      "Предсказанная температура: 0.39586365\n",
      "Реальная температура: 0.32188841201716656\n"
     ]
    }
   ],
   "source": [
    "x = X_test_all[2]\n",
    "x = x.reshape((1,) + x.shape)\n",
    "y_pred = grugru_all_model.predict(x)\n",
    "y_pred_inv = min_max_scaler.inverse_transform(y_pred)\n",
    "truth = y_test_all[2]\n",
    "truth_inv = min_max_scaler.inverse_transform(truth.reshape(-1, 1))\n",
    "print('Предсказанная температура:', y_pred_inv[0, 0])\n",
    "print('Реальная температура:', truth_inv[0, 0])"
   ]
  },
  {
   "cell_type": "markdown",
   "id": "mA6pbeAI7LUr",
   "metadata": {
    "id": "mA6pbeAI7LUr"
   },
   "source": [
    "### Вывод"
   ]
  },
  {
   "cell_type": "markdown",
   "id": "lE6eywdP7LKj",
   "metadata": {
    "id": "lE6eywdP7LKj"
   },
   "source": [
    "Набор данных Погода в Якутстке содержал пропущенные значения, строки с ними были удалены. Значения в столбце DD были преобразованы с помощью функции get_dummies.Для обучения базовых моделей использовался только признак T, для обучения вторых моделей использовались все признаки, кроме LocalTime. Датасет был разделен на 3 части: тренировочную (70%), тестовую (20%) и валидационную (10%).\n",
    "\n",
    "Оценка качества регрессоров происходила по следующим метрикам: MSE, MAE и R2.\n",
    "\n",
    "Среди трёх моделей регрессоров, которые обучались только на признаке T, лучше всего сработали модели с GRU и со стеком двух слоёв с GRU. У них одинаковые значения метрик: MSE = 0.0, MAE = 0.007 и R2 = 0.999.\n",
    "\n",
    "Среди трёх моделей регрессоров, которые обучались только на всех признаках, лучше всего сработала модель с SimpleRNN. Значения метрик: MSE = 0.006, MAE = 0.031 и R2 = 0.951."
   ]
  }
 ],
 "metadata": {
  "colab": {
   "provenance": []
  },
  "kernelspec": {
   "display_name": "Python 3 (ipykernel)",
   "language": "python",
   "name": "python3"
  },
  "language_info": {
   "codemirror_mode": {
    "name": "ipython",
    "version": 3
   },
   "file_extension": ".py",
   "mimetype": "text/x-python",
   "name": "python",
   "nbconvert_exporter": "python",
   "pygments_lexer": "ipython3",
   "version": "3.10.9"
  }
 },
 "nbformat": 4,
 "nbformat_minor": 5
}
